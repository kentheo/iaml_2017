{
 "cells": [
  {
   "cell_type": "markdown",
   "metadata": {},
   "source": [
    "# Introductory applied machine learning (INFR10069)"
   ]
  },
  {
   "cell_type": "markdown",
   "metadata": {},
   "source": [
    "# Assignment 3: Object recognition"
   ]
  },
  {
   "cell_type": "markdown",
   "metadata": {},
   "source": [
    "## Marking Breakdown\n",
    "\n",
    "**70-100%** results/answer correct plus extra achievement at understanding or analysis of results. Clear explanations, evidence of creative or deeper thought will contribute to a higher grade.\n",
    "\n",
    "**60-69%** results/answer correct or nearly correct and well explained.\n",
    "\n",
    "**50-59%** results/answer in right direction but significant errors.\n",
    "\n",
    "**40-49%** some evidence that the student has gained some understanding, but not answered the questions\n",
    "properly.\n",
    "\n",
    "**0-39%** serious error or slack work."
   ]
  },
  {
   "cell_type": "markdown",
   "metadata": {},
   "source": [
    "## Mechanics\n",
    "\n",
    "Fill out this notebook, save it, and submit it **and a `.txt` file** (see Part 2) in answer to this assignment.\n",
    "**You need to submit these two files electronically as described below.**\n",
    "\n",
    "On a DICE environment, open the terminal, navigate to the location of this notebook, and submit this notebook file using the following command:\n",
    "\n",
    "`submit iaml cw2 07_Assignment_3.ipynb assignment_3_predictions.txt`\n",
    "\n",
    "What actually happens in the background is that your file is placed in a folder available to markers. If you submit a file with the same name into the same location, **it will *overwrite* your previous submission**. You can check the status of your submissions with the `show_submissions` command.\n",
    "\n",
    "**Distance Learners:** To copy your work up to DICE (such that you can use the `submit` command) you can use `scp` or `rsync` (you may need to install these yourself). You can copy files up using `student.ssh.inf.ed.ac.uk`, then ssh in to submit, e.g. (in a unix terminal):\n",
    "```\n",
    "filename1=07_Assignment_3.ipynb\n",
    "local_scp_filepath1=~/git/iaml2017/${filename1}\n",
    "filename2=assignment_3_predictions.txt\n",
    "local_scp_filepath2=~/git/iaml2017/${filename2}\n",
    "UUN=s0816700\n",
    "server_address=student.ssh.inf.ed.ac.uk\n",
    "scp -r ${local_scp_filepath1} ${UUN}@${server_address}:${filename1}\n",
    "scp -r ${local_scp_filepath2} ${UUN}@${server_address}:${filename2}\n",
    "# rsync -rl ${local_scp_filepath1} ${UUN}@${server_address}:${filename1}\n",
    "# rsync -rl ${local_scp_filepath2} ${UUN}@${server_address}:${filename2}\n",
    "ssh ${UUN}@${server_address}\n",
    "ssh student.login\n",
    "submit iaml cw2 07_Assignment_3.ipynb assignment_3_predictions.txt\n",
    "```\n",
    "\n",
    "**Late submissions:** The policy stated in the School of Informatics MSc Degree Guide is that normally you will not be allowed to submit coursework late. See http://www.inf.ed.ac.uk/teaching/years/msc/courseguide10.html#exam for exceptions to this, e.g. in case of serious medical illness or serious personal problems.\n",
    "\n",
    "**Collaboration:** You may discuss the assignment with your colleagues, provided that the writing that you submit is entirely your own. That is, you should NOT borrow actual text or code from other students. We ask that you provide a list of the people who you've had discussions with (if any).\n",
    "\n",
    "**Resubmission:** If you submit your file again, the previous submission is **overwritten**. We will mark the version that is in the submission folder at the deadline."
   ]
  },
  {
   "cell_type": "markdown",
   "metadata": {},
   "source": [
    "## Important Instructions\n",
    "\n",
    "1. You *MUST* have your environment set up as in the [README](https://github.com/JamesOwers/iaml2017) and you *must activate this environment before running this notebook*:\n",
    "```\n",
    "source activate iaml\n",
    "cd iaml_2017\n",
    "jupyter notebook\n",
    "# Navigate to this file\n",
    "```\n",
    "\n",
    "1. Wherever you are required to produce code you should use code cells, otherwise you should use markdown cells to report results and explain answers.\n",
    "\n",
    "1. The .csv files that you will be using are located at `./datasets` (the `datasets` directory is adjacent to this file).\n",
    "\n",
    "1. **IMPORTANT:** Keep your answers brief and concise. Most written questions can be answered with 2-3 lines of explanation."
   ]
  },
  {
   "cell_type": "markdown",
   "metadata": {},
   "source": [
    "## Imports\n",
    "\n",
    "Include all required imports and execute the cell below. It's typical to include package imports at the top of the file for clarity."
   ]
  },
  {
   "cell_type": "code",
   "execution_count": 3,
   "metadata": {
    "collapsed": true
   },
   "outputs": [],
   "source": [
    "from __future__ import print_function, division\n",
    "%matplotlib inline\n",
    "\n",
    "# Your code goes here\n",
    "import os\n",
    "import pandas as pd\n",
    "import numpy as np\n",
    "import seaborn as sns\n",
    "import matplotlib.pyplot as plt\n",
    "from sklearn.linear_model import LogisticRegression, LogisticRegressionCV\n",
    "from sklearn import preprocessing\n",
    "from sklearn.model_selection import train_test_split, KFold, cross_val_predict\n",
    "from sklearn.dummy import DummyClassifier\n",
    "from sklearn.ensemble import RandomForestClassifier\n",
    "from sklearn.metrics import accuracy_score, log_loss\n",
    "from sklearn.svm import SVC, LinearSVC"
   ]
  },
  {
   "cell_type": "markdown",
   "metadata": {},
   "source": [
    "## Description of the dataset\n",
    "In this assignment our goal is to recognize objects in images of realistic scenes. There are 19 different classes of object e.g. person, dog, cat, car, etc. The dataset derives from several thousands photographs harvested from the web. Each object of a relevant class has been manually annotated with a bounding box. Images can contain none, one or multiple objects of each class. We have prepared a [website](http://www.inf.ed.ac.uk/teaching/courses/iaml/2014/assts/asst3/images.html) where you can view the images.\n",
    "\n",
    "We are going to detect whether images contain a person or not - a binary classification problem. To save you time and to make the problem manageable with limited computational resources, we have preprocessed the dataset. We will use the [Bag of Visual Words](https://en.wikipedia.org/wiki/Bag-of-words_model_in_computer_vision) representation. Each column of the dataset (which is not an lable), refers to a 'visual word'. Each image is represented by a 500 dimensional vector that contains the normalized count for each of 500 different visual words present in the respective image (a similar representation is used for the spambase dataset, just for real words). See the Appendix at the bottom of the notebook for more information. The image data is thus a $N \\times 500$ dimensional matrix where `N` is the number of images.\n",
    "\n",
    "The full dataset has 520 attributes (dimensions). The first attribute (`imgID`) contains the image ID which allows you to associate a data point with an actual image. The next 500 attributes (`dim1`, ..., `dim500`) are a normalized count vector for each visual word. The last 19 attributes (`is_class`) are the labels - 1 means the class is present in the image. In most of the experiments (unless explicitly noted otherwise) you will only need the `is_person` attribute and the 500 dimensional feature vector. **Do not use the additional class indicator attributes as features** unless explicitly told to do so. \n",
    "\n",
    "In Part A we provide you with a training (`train_images partA.csv`) and a validation (`valid_images partA .csv`) dataset. In Part B we provide three data sets: a training set (`train_images partB.csv`), a validation set (`valid_images partB.csv`), and a test set (`test_images partB.csv`). The training and validation set contain valid labels. In the test set the labels are missing. The files are available from the GitHub repository. \n",
    "\n",
    "**Important**: *Throughout the assignment you will be given various versions of the dataset that are relevant\n",
    "to a particular question. Please be careful to use the correct version of the dataset when instructed to do so.\n",
    "If you use the wrong version of the dataset by mistake no marks will be awarded.*"
   ]
  },
  {
   "cell_type": "markdown",
   "metadata": {},
   "source": [
    "## 1. Exploration of the dataset [70%]"
   ]
  },
  {
   "cell_type": "markdown",
   "metadata": {},
   "source": [
    "### ========== Question 1.1 --- [1 mark] ==========\n",
    "Create two Pandas DataFrame objects called `train_A` and `valid_A` by loading the datasets `train_images_partA.csv` and `valid_images_partA.csv`. Display the number of data points and attributes in each of the two datasets."
   ]
  },
  {
   "cell_type": "code",
   "execution_count": 4,
   "metadata": {},
   "outputs": [
    {
     "name": "stdout",
     "output_type": "stream",
     "text": [
      "Train Images: Number of instances: 2093, number of attributes: 520\n",
      "Valid Images: Number of instances: 1113, number of attributes: 520\n"
     ]
    }
   ],
   "source": [
    "data_path_train = os.path.join(os.getcwd(), 'datasets', 'train_images_partA.csv')\n",
    "train_A = pd.read_csv(data_path_train, delimiter = ',')\n",
    "\n",
    "data_path_valid = os.path.join(os.getcwd(), 'datasets', 'valid_images_partA.csv')\n",
    "valid_A = pd.read_csv(data_path_valid, delimiter = ',')\n",
    "print('Train Images: Number of instances: {}, number of attributes: {}'.format(train_A.shape[0], train_A.shape[1]))\n",
    "print('Valid Images: Number of instances: {}, number of attributes: {}'.format(valid_A.shape[0], valid_A.shape[1]))"
   ]
  },
  {
   "cell_type": "markdown",
   "metadata": {},
   "source": [
    "### ========== Question 1.2 --- [1 mark] ==========\n",
    "Display and inspect the first 10 instances in the training dataset."
   ]
  },
  {
   "cell_type": "code",
   "execution_count": 5,
   "metadata": {},
   "outputs": [
    {
     "data": {
      "text/html": [
       "<div>\n",
       "<style>\n",
       "    .dataframe thead tr:only-child th {\n",
       "        text-align: right;\n",
       "    }\n",
       "\n",
       "    .dataframe thead th {\n",
       "        text-align: left;\n",
       "    }\n",
       "\n",
       "    .dataframe tbody tr th {\n",
       "        vertical-align: top;\n",
       "    }\n",
       "</style>\n",
       "<table border=\"1\" class=\"dataframe\">\n",
       "  <thead>\n",
       "    <tr style=\"text-align: right;\">\n",
       "      <th></th>\n",
       "      <th>imgId</th>\n",
       "      <th>dim1</th>\n",
       "      <th>dim2</th>\n",
       "      <th>dim3</th>\n",
       "      <th>dim4</th>\n",
       "      <th>dim5</th>\n",
       "      <th>dim6</th>\n",
       "      <th>dim7</th>\n",
       "      <th>dim8</th>\n",
       "      <th>dim9</th>\n",
       "      <th>...</th>\n",
       "      <th>is_cow</th>\n",
       "      <th>is_diningtable</th>\n",
       "      <th>is_dog</th>\n",
       "      <th>is_horse</th>\n",
       "      <th>is_motorbike</th>\n",
       "      <th>is_person</th>\n",
       "      <th>is_pottedplant</th>\n",
       "      <th>is_sheep</th>\n",
       "      <th>is_sofa</th>\n",
       "      <th>is_tvmonitor</th>\n",
       "    </tr>\n",
       "  </thead>\n",
       "  <tbody>\n",
       "    <tr>\n",
       "      <th>0</th>\n",
       "      <td>2008_000008</td>\n",
       "      <td>0.002232</td>\n",
       "      <td>0.000558</td>\n",
       "      <td>0.002790</td>\n",
       "      <td>0.000837</td>\n",
       "      <td>0.001674</td>\n",
       "      <td>0.001953</td>\n",
       "      <td>0.001395</td>\n",
       "      <td>0.002232</td>\n",
       "      <td>0.003627</td>\n",
       "      <td>...</td>\n",
       "      <td>0</td>\n",
       "      <td>0</td>\n",
       "      <td>0</td>\n",
       "      <td>1</td>\n",
       "      <td>0</td>\n",
       "      <td>1</td>\n",
       "      <td>0</td>\n",
       "      <td>0</td>\n",
       "      <td>0</td>\n",
       "      <td>0</td>\n",
       "    </tr>\n",
       "    <tr>\n",
       "      <th>1</th>\n",
       "      <td>2008_000015</td>\n",
       "      <td>0.001563</td>\n",
       "      <td>0.000391</td>\n",
       "      <td>0.007422</td>\n",
       "      <td>0.003516</td>\n",
       "      <td>0.003906</td>\n",
       "      <td>0.005078</td>\n",
       "      <td>0.001953</td>\n",
       "      <td>0.002344</td>\n",
       "      <td>0.001953</td>\n",
       "      <td>...</td>\n",
       "      <td>0</td>\n",
       "      <td>0</td>\n",
       "      <td>0</td>\n",
       "      <td>0</td>\n",
       "      <td>0</td>\n",
       "      <td>0</td>\n",
       "      <td>0</td>\n",
       "      <td>0</td>\n",
       "      <td>0</td>\n",
       "      <td>0</td>\n",
       "    </tr>\n",
       "    <tr>\n",
       "      <th>2</th>\n",
       "      <td>2008_000019</td>\n",
       "      <td>0.000521</td>\n",
       "      <td>0.000000</td>\n",
       "      <td>0.000000</td>\n",
       "      <td>0.001042</td>\n",
       "      <td>0.001563</td>\n",
       "      <td>0.005729</td>\n",
       "      <td>0.000521</td>\n",
       "      <td>0.002083</td>\n",
       "      <td>0.003646</td>\n",
       "      <td>...</td>\n",
       "      <td>0</td>\n",
       "      <td>0</td>\n",
       "      <td>1</td>\n",
       "      <td>0</td>\n",
       "      <td>0</td>\n",
       "      <td>0</td>\n",
       "      <td>0</td>\n",
       "      <td>0</td>\n",
       "      <td>0</td>\n",
       "      <td>0</td>\n",
       "    </tr>\n",
       "    <tr>\n",
       "      <th>3</th>\n",
       "      <td>2008_000023</td>\n",
       "      <td>0.002976</td>\n",
       "      <td>0.002232</td>\n",
       "      <td>0.004464</td>\n",
       "      <td>0.000372</td>\n",
       "      <td>0.000372</td>\n",
       "      <td>0.002232</td>\n",
       "      <td>0.000000</td>\n",
       "      <td>0.003720</td>\n",
       "      <td>0.000000</td>\n",
       "      <td>...</td>\n",
       "      <td>0</td>\n",
       "      <td>0</td>\n",
       "      <td>0</td>\n",
       "      <td>0</td>\n",
       "      <td>0</td>\n",
       "      <td>1</td>\n",
       "      <td>0</td>\n",
       "      <td>0</td>\n",
       "      <td>0</td>\n",
       "      <td>1</td>\n",
       "    </tr>\n",
       "    <tr>\n",
       "      <th>4</th>\n",
       "      <td>2008_000028</td>\n",
       "      <td>0.001359</td>\n",
       "      <td>0.000340</td>\n",
       "      <td>0.001359</td>\n",
       "      <td>0.000340</td>\n",
       "      <td>0.001359</td>\n",
       "      <td>0.002038</td>\n",
       "      <td>0.002378</td>\n",
       "      <td>0.000000</td>\n",
       "      <td>0.003397</td>\n",
       "      <td>...</td>\n",
       "      <td>0</td>\n",
       "      <td>0</td>\n",
       "      <td>0</td>\n",
       "      <td>0</td>\n",
       "      <td>0</td>\n",
       "      <td>0</td>\n",
       "      <td>0</td>\n",
       "      <td>0</td>\n",
       "      <td>0</td>\n",
       "      <td>0</td>\n",
       "    </tr>\n",
       "    <tr>\n",
       "      <th>5</th>\n",
       "      <td>2008_000033</td>\n",
       "      <td>0.000000</td>\n",
       "      <td>0.006324</td>\n",
       "      <td>0.000372</td>\n",
       "      <td>0.000372</td>\n",
       "      <td>0.000372</td>\n",
       "      <td>0.000372</td>\n",
       "      <td>0.000744</td>\n",
       "      <td>0.008185</td>\n",
       "      <td>0.000372</td>\n",
       "      <td>...</td>\n",
       "      <td>0</td>\n",
       "      <td>0</td>\n",
       "      <td>0</td>\n",
       "      <td>0</td>\n",
       "      <td>0</td>\n",
       "      <td>0</td>\n",
       "      <td>0</td>\n",
       "      <td>0</td>\n",
       "      <td>0</td>\n",
       "      <td>0</td>\n",
       "    </tr>\n",
       "    <tr>\n",
       "      <th>6</th>\n",
       "      <td>2008_000036</td>\n",
       "      <td>0.000340</td>\n",
       "      <td>0.000000</td>\n",
       "      <td>0.004416</td>\n",
       "      <td>0.000340</td>\n",
       "      <td>0.000679</td>\n",
       "      <td>0.006114</td>\n",
       "      <td>0.001359</td>\n",
       "      <td>0.002717</td>\n",
       "      <td>0.003057</td>\n",
       "      <td>...</td>\n",
       "      <td>0</td>\n",
       "      <td>0</td>\n",
       "      <td>0</td>\n",
       "      <td>0</td>\n",
       "      <td>0</td>\n",
       "      <td>1</td>\n",
       "      <td>0</td>\n",
       "      <td>0</td>\n",
       "      <td>0</td>\n",
       "      <td>0</td>\n",
       "    </tr>\n",
       "    <tr>\n",
       "      <th>7</th>\n",
       "      <td>2008_000037</td>\n",
       "      <td>0.000837</td>\n",
       "      <td>0.002232</td>\n",
       "      <td>0.000279</td>\n",
       "      <td>0.000279</td>\n",
       "      <td>0.000837</td>\n",
       "      <td>0.000000</td>\n",
       "      <td>0.000279</td>\n",
       "      <td>0.006696</td>\n",
       "      <td>0.000000</td>\n",
       "      <td>...</td>\n",
       "      <td>0</td>\n",
       "      <td>0</td>\n",
       "      <td>0</td>\n",
       "      <td>0</td>\n",
       "      <td>0</td>\n",
       "      <td>0</td>\n",
       "      <td>0</td>\n",
       "      <td>0</td>\n",
       "      <td>0</td>\n",
       "      <td>0</td>\n",
       "    </tr>\n",
       "    <tr>\n",
       "      <th>8</th>\n",
       "      <td>2008_000041</td>\n",
       "      <td>0.002378</td>\n",
       "      <td>0.001359</td>\n",
       "      <td>0.004755</td>\n",
       "      <td>0.001019</td>\n",
       "      <td>0.003736</td>\n",
       "      <td>0.001359</td>\n",
       "      <td>0.001019</td>\n",
       "      <td>0.004076</td>\n",
       "      <td>0.003397</td>\n",
       "      <td>...</td>\n",
       "      <td>0</td>\n",
       "      <td>1</td>\n",
       "      <td>0</td>\n",
       "      <td>0</td>\n",
       "      <td>0</td>\n",
       "      <td>1</td>\n",
       "      <td>0</td>\n",
       "      <td>0</td>\n",
       "      <td>0</td>\n",
       "      <td>0</td>\n",
       "    </tr>\n",
       "    <tr>\n",
       "      <th>9</th>\n",
       "      <td>2008_000045</td>\n",
       "      <td>0.001019</td>\n",
       "      <td>0.000340</td>\n",
       "      <td>0.006454</td>\n",
       "      <td>0.001698</td>\n",
       "      <td>0.001359</td>\n",
       "      <td>0.003736</td>\n",
       "      <td>0.000000</td>\n",
       "      <td>0.004076</td>\n",
       "      <td>0.000000</td>\n",
       "      <td>...</td>\n",
       "      <td>0</td>\n",
       "      <td>0</td>\n",
       "      <td>0</td>\n",
       "      <td>0</td>\n",
       "      <td>0</td>\n",
       "      <td>0</td>\n",
       "      <td>0</td>\n",
       "      <td>0</td>\n",
       "      <td>0</td>\n",
       "      <td>0</td>\n",
       "    </tr>\n",
       "  </tbody>\n",
       "</table>\n",
       "<p>10 rows × 520 columns</p>\n",
       "</div>"
      ],
      "text/plain": [
       "         imgId      dim1      dim2      dim3      dim4      dim5      dim6  \\\n",
       "0  2008_000008  0.002232  0.000558  0.002790  0.000837  0.001674  0.001953   \n",
       "1  2008_000015  0.001563  0.000391  0.007422  0.003516  0.003906  0.005078   \n",
       "2  2008_000019  0.000521  0.000000  0.000000  0.001042  0.001563  0.005729   \n",
       "3  2008_000023  0.002976  0.002232  0.004464  0.000372  0.000372  0.002232   \n",
       "4  2008_000028  0.001359  0.000340  0.001359  0.000340  0.001359  0.002038   \n",
       "5  2008_000033  0.000000  0.006324  0.000372  0.000372  0.000372  0.000372   \n",
       "6  2008_000036  0.000340  0.000000  0.004416  0.000340  0.000679  0.006114   \n",
       "7  2008_000037  0.000837  0.002232  0.000279  0.000279  0.000837  0.000000   \n",
       "8  2008_000041  0.002378  0.001359  0.004755  0.001019  0.003736  0.001359   \n",
       "9  2008_000045  0.001019  0.000340  0.006454  0.001698  0.001359  0.003736   \n",
       "\n",
       "       dim7      dim8      dim9      ...       is_cow  is_diningtable  is_dog  \\\n",
       "0  0.001395  0.002232  0.003627      ...            0               0       0   \n",
       "1  0.001953  0.002344  0.001953      ...            0               0       0   \n",
       "2  0.000521  0.002083  0.003646      ...            0               0       1   \n",
       "3  0.000000  0.003720  0.000000      ...            0               0       0   \n",
       "4  0.002378  0.000000  0.003397      ...            0               0       0   \n",
       "5  0.000744  0.008185  0.000372      ...            0               0       0   \n",
       "6  0.001359  0.002717  0.003057      ...            0               0       0   \n",
       "7  0.000279  0.006696  0.000000      ...            0               0       0   \n",
       "8  0.001019  0.004076  0.003397      ...            0               1       0   \n",
       "9  0.000000  0.004076  0.000000      ...            0               0       0   \n",
       "\n",
       "   is_horse  is_motorbike  is_person  is_pottedplant  is_sheep  is_sofa  \\\n",
       "0         1             0          1               0         0        0   \n",
       "1         0             0          0               0         0        0   \n",
       "2         0             0          0               0         0        0   \n",
       "3         0             0          1               0         0        0   \n",
       "4         0             0          0               0         0        0   \n",
       "5         0             0          0               0         0        0   \n",
       "6         0             0          1               0         0        0   \n",
       "7         0             0          0               0         0        0   \n",
       "8         0             0          1               0         0        0   \n",
       "9         0             0          0               0         0        0   \n",
       "\n",
       "   is_tvmonitor  \n",
       "0             0  \n",
       "1             0  \n",
       "2             0  \n",
       "3             1  \n",
       "4             0  \n",
       "5             0  \n",
       "6             0  \n",
       "7             0  \n",
       "8             0  \n",
       "9             0  \n",
       "\n",
       "[10 rows x 520 columns]"
      ]
     },
     "execution_count": 5,
     "metadata": {},
     "output_type": "execute_result"
    }
   ],
   "source": [
    "train_A.head(10)"
   ]
  },
  {
   "cell_type": "markdown",
   "metadata": {},
   "source": [
    "### ========== Question 1.3 --- [1 mark] ==========\n",
    "Select the attributes (i.e. input features) for training our classifiers. These should be the visual word normalised counts `dim1, dim2, ..., dim500`. Create a list of the **names** of the attributes of interest. "
   ]
  },
  {
   "cell_type": "code",
   "execution_count": 6,
   "metadata": {},
   "outputs": [
    {
     "data": {
      "text/plain": [
       "['dim1',\n",
       " 'dim2',\n",
       " 'dim3',\n",
       " 'dim4',\n",
       " 'dim5',\n",
       " 'dim6',\n",
       " 'dim7',\n",
       " 'dim8',\n",
       " 'dim9',\n",
       " 'dim10',\n",
       " 'dim11',\n",
       " 'dim12',\n",
       " 'dim13',\n",
       " 'dim14',\n",
       " 'dim15',\n",
       " 'dim16',\n",
       " 'dim17',\n",
       " 'dim18',\n",
       " 'dim19',\n",
       " 'dim20',\n",
       " 'dim21',\n",
       " 'dim22',\n",
       " 'dim23',\n",
       " 'dim24',\n",
       " 'dim25',\n",
       " 'dim26',\n",
       " 'dim27',\n",
       " 'dim28',\n",
       " 'dim29',\n",
       " 'dim30',\n",
       " 'dim31',\n",
       " 'dim32',\n",
       " 'dim33',\n",
       " 'dim34',\n",
       " 'dim35',\n",
       " 'dim36',\n",
       " 'dim37',\n",
       " 'dim38',\n",
       " 'dim39',\n",
       " 'dim40',\n",
       " 'dim41',\n",
       " 'dim42',\n",
       " 'dim43',\n",
       " 'dim44',\n",
       " 'dim45',\n",
       " 'dim46',\n",
       " 'dim47',\n",
       " 'dim48',\n",
       " 'dim49',\n",
       " 'dim50',\n",
       " 'dim51',\n",
       " 'dim52',\n",
       " 'dim53',\n",
       " 'dim54',\n",
       " 'dim55',\n",
       " 'dim56',\n",
       " 'dim57',\n",
       " 'dim58',\n",
       " 'dim59',\n",
       " 'dim60',\n",
       " 'dim61',\n",
       " 'dim62',\n",
       " 'dim63',\n",
       " 'dim64',\n",
       " 'dim65',\n",
       " 'dim66',\n",
       " 'dim67',\n",
       " 'dim68',\n",
       " 'dim69',\n",
       " 'dim70',\n",
       " 'dim71',\n",
       " 'dim72',\n",
       " 'dim73',\n",
       " 'dim74',\n",
       " 'dim75',\n",
       " 'dim76',\n",
       " 'dim77',\n",
       " 'dim78',\n",
       " 'dim79',\n",
       " 'dim80',\n",
       " 'dim81',\n",
       " 'dim82',\n",
       " 'dim83',\n",
       " 'dim84',\n",
       " 'dim85',\n",
       " 'dim86',\n",
       " 'dim87',\n",
       " 'dim88',\n",
       " 'dim89',\n",
       " 'dim90',\n",
       " 'dim91',\n",
       " 'dim92',\n",
       " 'dim93',\n",
       " 'dim94',\n",
       " 'dim95',\n",
       " 'dim96',\n",
       " 'dim97',\n",
       " 'dim98',\n",
       " 'dim99',\n",
       " 'dim100',\n",
       " 'dim101',\n",
       " 'dim102',\n",
       " 'dim103',\n",
       " 'dim104',\n",
       " 'dim105',\n",
       " 'dim106',\n",
       " 'dim107',\n",
       " 'dim108',\n",
       " 'dim109',\n",
       " 'dim110',\n",
       " 'dim111',\n",
       " 'dim112',\n",
       " 'dim113',\n",
       " 'dim114',\n",
       " 'dim115',\n",
       " 'dim116',\n",
       " 'dim117',\n",
       " 'dim118',\n",
       " 'dim119',\n",
       " 'dim120',\n",
       " 'dim121',\n",
       " 'dim122',\n",
       " 'dim123',\n",
       " 'dim124',\n",
       " 'dim125',\n",
       " 'dim126',\n",
       " 'dim127',\n",
       " 'dim128',\n",
       " 'dim129',\n",
       " 'dim130',\n",
       " 'dim131',\n",
       " 'dim132',\n",
       " 'dim133',\n",
       " 'dim134',\n",
       " 'dim135',\n",
       " 'dim136',\n",
       " 'dim137',\n",
       " 'dim138',\n",
       " 'dim139',\n",
       " 'dim140',\n",
       " 'dim141',\n",
       " 'dim142',\n",
       " 'dim143',\n",
       " 'dim144',\n",
       " 'dim145',\n",
       " 'dim146',\n",
       " 'dim147',\n",
       " 'dim148',\n",
       " 'dim149',\n",
       " 'dim150',\n",
       " 'dim151',\n",
       " 'dim152',\n",
       " 'dim153',\n",
       " 'dim154',\n",
       " 'dim155',\n",
       " 'dim156',\n",
       " 'dim157',\n",
       " 'dim158',\n",
       " 'dim159',\n",
       " 'dim160',\n",
       " 'dim161',\n",
       " 'dim162',\n",
       " 'dim163',\n",
       " 'dim164',\n",
       " 'dim165',\n",
       " 'dim166',\n",
       " 'dim167',\n",
       " 'dim168',\n",
       " 'dim169',\n",
       " 'dim170',\n",
       " 'dim171',\n",
       " 'dim172',\n",
       " 'dim173',\n",
       " 'dim174',\n",
       " 'dim175',\n",
       " 'dim176',\n",
       " 'dim177',\n",
       " 'dim178',\n",
       " 'dim179',\n",
       " 'dim180',\n",
       " 'dim181',\n",
       " 'dim182',\n",
       " 'dim183',\n",
       " 'dim184',\n",
       " 'dim185',\n",
       " 'dim186',\n",
       " 'dim187',\n",
       " 'dim188',\n",
       " 'dim189',\n",
       " 'dim190',\n",
       " 'dim191',\n",
       " 'dim192',\n",
       " 'dim193',\n",
       " 'dim194',\n",
       " 'dim195',\n",
       " 'dim196',\n",
       " 'dim197',\n",
       " 'dim198',\n",
       " 'dim199',\n",
       " 'dim200',\n",
       " 'dim201',\n",
       " 'dim202',\n",
       " 'dim203',\n",
       " 'dim204',\n",
       " 'dim205',\n",
       " 'dim206',\n",
       " 'dim207',\n",
       " 'dim208',\n",
       " 'dim209',\n",
       " 'dim210',\n",
       " 'dim211',\n",
       " 'dim212',\n",
       " 'dim213',\n",
       " 'dim214',\n",
       " 'dim215',\n",
       " 'dim216',\n",
       " 'dim217',\n",
       " 'dim218',\n",
       " 'dim219',\n",
       " 'dim220',\n",
       " 'dim221',\n",
       " 'dim222',\n",
       " 'dim223',\n",
       " 'dim224',\n",
       " 'dim225',\n",
       " 'dim226',\n",
       " 'dim227',\n",
       " 'dim228',\n",
       " 'dim229',\n",
       " 'dim230',\n",
       " 'dim231',\n",
       " 'dim232',\n",
       " 'dim233',\n",
       " 'dim234',\n",
       " 'dim235',\n",
       " 'dim236',\n",
       " 'dim237',\n",
       " 'dim238',\n",
       " 'dim239',\n",
       " 'dim240',\n",
       " 'dim241',\n",
       " 'dim242',\n",
       " 'dim243',\n",
       " 'dim244',\n",
       " 'dim245',\n",
       " 'dim246',\n",
       " 'dim247',\n",
       " 'dim248',\n",
       " 'dim249',\n",
       " 'dim250',\n",
       " 'dim251',\n",
       " 'dim252',\n",
       " 'dim253',\n",
       " 'dim254',\n",
       " 'dim255',\n",
       " 'dim256',\n",
       " 'dim257',\n",
       " 'dim258',\n",
       " 'dim259',\n",
       " 'dim260',\n",
       " 'dim261',\n",
       " 'dim262',\n",
       " 'dim263',\n",
       " 'dim264',\n",
       " 'dim265',\n",
       " 'dim266',\n",
       " 'dim267',\n",
       " 'dim268',\n",
       " 'dim269',\n",
       " 'dim270',\n",
       " 'dim271',\n",
       " 'dim272',\n",
       " 'dim273',\n",
       " 'dim274',\n",
       " 'dim275',\n",
       " 'dim276',\n",
       " 'dim277',\n",
       " 'dim278',\n",
       " 'dim279',\n",
       " 'dim280',\n",
       " 'dim281',\n",
       " 'dim282',\n",
       " 'dim283',\n",
       " 'dim284',\n",
       " 'dim285',\n",
       " 'dim286',\n",
       " 'dim287',\n",
       " 'dim288',\n",
       " 'dim289',\n",
       " 'dim290',\n",
       " 'dim291',\n",
       " 'dim292',\n",
       " 'dim293',\n",
       " 'dim294',\n",
       " 'dim295',\n",
       " 'dim296',\n",
       " 'dim297',\n",
       " 'dim298',\n",
       " 'dim299',\n",
       " 'dim300',\n",
       " 'dim301',\n",
       " 'dim302',\n",
       " 'dim303',\n",
       " 'dim304',\n",
       " 'dim305',\n",
       " 'dim306',\n",
       " 'dim307',\n",
       " 'dim308',\n",
       " 'dim309',\n",
       " 'dim310',\n",
       " 'dim311',\n",
       " 'dim312',\n",
       " 'dim313',\n",
       " 'dim314',\n",
       " 'dim315',\n",
       " 'dim316',\n",
       " 'dim317',\n",
       " 'dim318',\n",
       " 'dim319',\n",
       " 'dim320',\n",
       " 'dim321',\n",
       " 'dim322',\n",
       " 'dim323',\n",
       " 'dim324',\n",
       " 'dim325',\n",
       " 'dim326',\n",
       " 'dim327',\n",
       " 'dim328',\n",
       " 'dim329',\n",
       " 'dim330',\n",
       " 'dim331',\n",
       " 'dim332',\n",
       " 'dim333',\n",
       " 'dim334',\n",
       " 'dim335',\n",
       " 'dim336',\n",
       " 'dim337',\n",
       " 'dim338',\n",
       " 'dim339',\n",
       " 'dim340',\n",
       " 'dim341',\n",
       " 'dim342',\n",
       " 'dim343',\n",
       " 'dim344',\n",
       " 'dim345',\n",
       " 'dim346',\n",
       " 'dim347',\n",
       " 'dim348',\n",
       " 'dim349',\n",
       " 'dim350',\n",
       " 'dim351',\n",
       " 'dim352',\n",
       " 'dim353',\n",
       " 'dim354',\n",
       " 'dim355',\n",
       " 'dim356',\n",
       " 'dim357',\n",
       " 'dim358',\n",
       " 'dim359',\n",
       " 'dim360',\n",
       " 'dim361',\n",
       " 'dim362',\n",
       " 'dim363',\n",
       " 'dim364',\n",
       " 'dim365',\n",
       " 'dim366',\n",
       " 'dim367',\n",
       " 'dim368',\n",
       " 'dim369',\n",
       " 'dim370',\n",
       " 'dim371',\n",
       " 'dim372',\n",
       " 'dim373',\n",
       " 'dim374',\n",
       " 'dim375',\n",
       " 'dim376',\n",
       " 'dim377',\n",
       " 'dim378',\n",
       " 'dim379',\n",
       " 'dim380',\n",
       " 'dim381',\n",
       " 'dim382',\n",
       " 'dim383',\n",
       " 'dim384',\n",
       " 'dim385',\n",
       " 'dim386',\n",
       " 'dim387',\n",
       " 'dim388',\n",
       " 'dim389',\n",
       " 'dim390',\n",
       " 'dim391',\n",
       " 'dim392',\n",
       " 'dim393',\n",
       " 'dim394',\n",
       " 'dim395',\n",
       " 'dim396',\n",
       " 'dim397',\n",
       " 'dim398',\n",
       " 'dim399',\n",
       " 'dim400',\n",
       " 'dim401',\n",
       " 'dim402',\n",
       " 'dim403',\n",
       " 'dim404',\n",
       " 'dim405',\n",
       " 'dim406',\n",
       " 'dim407',\n",
       " 'dim408',\n",
       " 'dim409',\n",
       " 'dim410',\n",
       " 'dim411',\n",
       " 'dim412',\n",
       " 'dim413',\n",
       " 'dim414',\n",
       " 'dim415',\n",
       " 'dim416',\n",
       " 'dim417',\n",
       " 'dim418',\n",
       " 'dim419',\n",
       " 'dim420',\n",
       " 'dim421',\n",
       " 'dim422',\n",
       " 'dim423',\n",
       " 'dim424',\n",
       " 'dim425',\n",
       " 'dim426',\n",
       " 'dim427',\n",
       " 'dim428',\n",
       " 'dim429',\n",
       " 'dim430',\n",
       " 'dim431',\n",
       " 'dim432',\n",
       " 'dim433',\n",
       " 'dim434',\n",
       " 'dim435',\n",
       " 'dim436',\n",
       " 'dim437',\n",
       " 'dim438',\n",
       " 'dim439',\n",
       " 'dim440',\n",
       " 'dim441',\n",
       " 'dim442',\n",
       " 'dim443',\n",
       " 'dim444',\n",
       " 'dim445',\n",
       " 'dim446',\n",
       " 'dim447',\n",
       " 'dim448',\n",
       " 'dim449',\n",
       " 'dim450',\n",
       " 'dim451',\n",
       " 'dim452',\n",
       " 'dim453',\n",
       " 'dim454',\n",
       " 'dim455',\n",
       " 'dim456',\n",
       " 'dim457',\n",
       " 'dim458',\n",
       " 'dim459',\n",
       " 'dim460',\n",
       " 'dim461',\n",
       " 'dim462',\n",
       " 'dim463',\n",
       " 'dim464',\n",
       " 'dim465',\n",
       " 'dim466',\n",
       " 'dim467',\n",
       " 'dim468',\n",
       " 'dim469',\n",
       " 'dim470',\n",
       " 'dim471',\n",
       " 'dim472',\n",
       " 'dim473',\n",
       " 'dim474',\n",
       " 'dim475',\n",
       " 'dim476',\n",
       " 'dim477',\n",
       " 'dim478',\n",
       " 'dim479',\n",
       " 'dim480',\n",
       " 'dim481',\n",
       " 'dim482',\n",
       " 'dim483',\n",
       " 'dim484',\n",
       " 'dim485',\n",
       " 'dim486',\n",
       " 'dim487',\n",
       " 'dim488',\n",
       " 'dim489',\n",
       " 'dim490',\n",
       " 'dim491',\n",
       " 'dim492',\n",
       " 'dim493',\n",
       " 'dim494',\n",
       " 'dim495',\n",
       " 'dim496',\n",
       " 'dim497',\n",
       " 'dim498',\n",
       " 'dim499',\n",
       " 'dim500']"
      ]
     },
     "execution_count": 6,
     "metadata": {},
     "output_type": "execute_result"
    }
   ],
   "source": [
    "X = list()\n",
    "for i in range(1,501):\n",
    "    s = 'dim' + str(i)\n",
    "    X.append(s)\n",
    "X"
   ]
  },
  {
   "cell_type": "markdown",
   "metadata": {},
   "source": [
    "### ========== Question 1.4 --- [1 mark] ==========\n",
    "By using the list from Question 1.3 now create 4 numpy arrays `X_tr`, `X_val`, `y_tr` and `y_val` in which to store the training features, validation features, training targets, and validation targets, respectively. Your target vectors should correspond to the `is_person` attribute of the training and validation sets. Display the dimensionalities (i.e shapes) of the 4 arrays. \n",
    "\n",
    "Check this carefully - you will be penalised in following questions if the data is not correct!"
   ]
  },
  {
   "cell_type": "code",
   "execution_count": 7,
   "metadata": {},
   "outputs": [
    {
     "name": "stdout",
     "output_type": "stream",
     "text": [
      "X_tr shape: (2093, 500)\n",
      "X_val shape: (1113, 500)\n",
      "y_tr shape: (2093,)\n",
      "y_val shape: (1113,)\n"
     ]
    }
   ],
   "source": [
    "X_tr = train_A[X]\n",
    "X_val = valid_A[X]\n",
    "y_tr = train_A['is_person']\n",
    "y_val = valid_A['is_person']\n",
    "print('X_tr shape: {}'.format(X_tr.shape))\n",
    "print('X_val shape: {}'.format(X_val.shape))\n",
    "print('y_tr shape: {}'.format(y_tr.shape))\n",
    "print('y_val shape: {}'.format(y_val.shape))"
   ]
  },
  {
   "cell_type": "markdown",
   "metadata": {},
   "source": [
    "### ========== Question 1.5 --- [2 marks] ==========\n",
    "Create a [countplots](https://seaborn.github.io/generated/seaborn.countplot.html?highlight=countplot#seaborn.countplot) for the training and validation targets. Create a single figure, and put the two plots inside the single figure. Label axes appropriately and add a title to your plot. Use descriptive `xticklabels` instead of the default numeric ones."
   ]
  },
  {
   "cell_type": "code",
   "execution_count": 8,
   "metadata": {},
   "outputs": [
    {
     "data": {
      "image/png": "[encoded data removed]",
      "text/plain": [
       "<matplotlib.figure.Figure at 0x7ff3652b6590>"
      ]
     },
     "metadata": {},
     "output_type": "display_data"
    }
   ],
   "source": [
    "fig, (ax1, ax2) = plt.subplots(1,2, figsize=(8,4))\n",
    "sns.countplot(y_tr, ax=ax1)\n",
    "ax1.set_title('Training set', size=12)\n",
    "ax1.set_xlabel(' ')\n",
    "ax1.set_xticklabels(['Not Present', 'Present'])\n",
    "sns.countplot(y_val, ax=ax2)\n",
    "ax2.set_xlabel(' ')\n",
    "ax2.set_ylabel('')\n",
    "ax2.set_xticklabels(['Not Present', 'Present'])\n",
    "ax2.set_title('Validation set', size=12)\n",
    "fig.suptitle('Presence of person in images', size=12)\n",
    "plt.show()"
   ]
  },
  {
   "cell_type": "markdown",
   "metadata": {},
   "source": [
    "### ========== Question 1.6 --- [1 mark] ==========\n",
    "We want to make a baseline classification accuracy to beat. Pick a baseline \"dummy\" classifier, describe in a sentence why you chose it, and report the accuracy it achieves on the validation set?"
   ]
  },
  {
   "cell_type": "markdown",
   "metadata": {},
   "source": [
    "*Answer: *I chose the DummyClassifier using the 'stratified' strategy, which generates random predictions on the set, by respecting the training set class distribution. This means the classifier will try to keep the same percentage of presence of a person in an image of the training set when classifying the images of the validation set."
   ]
  },
  {
   "cell_type": "code",
   "execution_count": 9,
   "metadata": {},
   "outputs": [
    {
     "name": "stdout",
     "output_type": "stream",
     "text": [
      "Accuracy on validation set: 0.510332434861\n"
     ]
    }
   ],
   "source": [
    "# Create a DummyClassifier using the 'stratified' strategy\n",
    "dummy = DummyClassifier(strategy = 'stratified', random_state = 0)\n",
    "dummy.fit(X_tr, y_tr)\n",
    "\n",
    "# Check performance of baseline\n",
    "print('Accuracy on validation set: {}'.format(dummy.score(X_val, y_val)))"
   ]
  },
  {
   "cell_type": "markdown",
   "metadata": {},
   "source": [
    "### ========== Question 1.7 --- [3 marks] ==========\n",
    "Train a [`LogisticRegression`](http://scikit-learn.org/0.17/modules/generated/sklearn.linear_model.LogisticRegression.html) classifier using default settings, except for the `solver` parameter which you should set to `lbfgs`. Report the classification accuracy score on the training and validation sets and compare with the baseline. Comment on the results with 1-2 sentences. You may include any additional plot(s) if you wish to justify your explanation."
   ]
  },
  {
   "cell_type": "code",
   "execution_count": 10,
   "metadata": {},
   "outputs": [
    {
     "name": "stdout",
     "output_type": "stream",
     "text": [
      "Classification accuracy on training set: 0.551\n",
      "Classification accuracy on validation set: 0.527\n"
     ]
    }
   ],
   "source": [
    "lr = LogisticRegression(solver = 'lbfgs')\n",
    "lr.fit(X_tr, y_tr)\n",
    "print('Classification accuracy on training set: {:.3f}'.format(lr.score(X_tr, y_tr)))\n",
    "print('Classification accuracy on validation set: {:.3f}'.format(lr.score(X_val, y_val)))"
   ]
  },
  {
   "cell_type": "markdown",
   "metadata": {},
   "source": [
    "*Answer: * Looking at the classification accuracy of both the training and the validation sets, the classifier performed poorly. Its accuracy is just above the accuracy of the baseline, therefore it requires improvement."
   ]
  },
  {
   "cell_type": "markdown",
   "metadata": {},
   "source": [
    "### ========== Question 1.8 --- [1 mark] ==========\n",
    "Display the means and standard deviations of the first 5 features in the training set. *Hint: you want to compute the means and standard deviations across the columns of your arrays. Make sure you make appropriate use of the `axis` parameter.*"
   ]
  },
  {
   "cell_type": "code",
   "execution_count": 11,
   "metadata": {},
   "outputs": [
    {
     "name": "stdout",
     "output_type": "stream",
     "text": [
      "Means:\n",
      "dim1    0.001751\n",
      "dim2    0.000756\n",
      "dim3    0.004317\n",
      "dim4    0.001853\n",
      "dim5    0.002272\n",
      "dtype: float64\n",
      "Standard deviations:\n",
      "dim1    0.001193\n",
      "dim2    0.001406\n",
      "dim3    0.003693\n",
      "dim4    0.001340\n",
      "dim5    0.001598\n",
      "dtype: float64\n"
     ]
    },
    {
     "data": {
      "text/html": [
       "<div>\n",
       "<style>\n",
       "    .dataframe thead tr:only-child th {\n",
       "        text-align: right;\n",
       "    }\n",
       "\n",
       "    .dataframe thead th {\n",
       "        text-align: left;\n",
       "    }\n",
       "\n",
       "    .dataframe tbody tr th {\n",
       "        vertical-align: top;\n",
       "    }\n",
       "</style>\n",
       "<table border=\"1\" class=\"dataframe\">\n",
       "  <thead>\n",
       "    <tr style=\"text-align: right;\">\n",
       "      <th></th>\n",
       "      <th>dim1</th>\n",
       "      <th>dim2</th>\n",
       "      <th>dim3</th>\n",
       "      <th>dim4</th>\n",
       "      <th>dim5</th>\n",
       "      <th>dim6</th>\n",
       "      <th>dim7</th>\n",
       "      <th>dim8</th>\n",
       "      <th>dim9</th>\n",
       "      <th>dim10</th>\n",
       "      <th>...</th>\n",
       "      <th>dim491</th>\n",
       "      <th>dim492</th>\n",
       "      <th>dim493</th>\n",
       "      <th>dim494</th>\n",
       "      <th>dim495</th>\n",
       "      <th>dim496</th>\n",
       "      <th>dim497</th>\n",
       "      <th>dim498</th>\n",
       "      <th>dim499</th>\n",
       "      <th>dim500</th>\n",
       "    </tr>\n",
       "  </thead>\n",
       "  <tbody>\n",
       "    <tr>\n",
       "      <th>count</th>\n",
       "      <td>2093.000000</td>\n",
       "      <td>2093.000000</td>\n",
       "      <td>2093.000000</td>\n",
       "      <td>2093.000000</td>\n",
       "      <td>2093.000000</td>\n",
       "      <td>2093.000000</td>\n",
       "      <td>2093.000000</td>\n",
       "      <td>2093.000000</td>\n",
       "      <td>2093.000000</td>\n",
       "      <td>2093.000000</td>\n",
       "      <td>...</td>\n",
       "      <td>2093.000000</td>\n",
       "      <td>2093.000000</td>\n",
       "      <td>2093.000000</td>\n",
       "      <td>2093.000000</td>\n",
       "      <td>2093.000000</td>\n",
       "      <td>2093.000000</td>\n",
       "      <td>2093.000000</td>\n",
       "      <td>2093.000000</td>\n",
       "      <td>2093.000000</td>\n",
       "      <td>2093.000000</td>\n",
       "    </tr>\n",
       "    <tr>\n",
       "      <th>mean</th>\n",
       "      <td>0.001751</td>\n",
       "      <td>0.000756</td>\n",
       "      <td>0.004317</td>\n",
       "      <td>0.001853</td>\n",
       "      <td>0.002272</td>\n",
       "      <td>0.002220</td>\n",
       "      <td>0.001019</td>\n",
       "      <td>0.002446</td>\n",
       "      <td>0.002088</td>\n",
       "      <td>0.002746</td>\n",
       "      <td>...</td>\n",
       "      <td>0.002134</td>\n",
       "      <td>0.000563</td>\n",
       "      <td>0.004586</td>\n",
       "      <td>0.001541</td>\n",
       "      <td>0.003642</td>\n",
       "      <td>0.002200</td>\n",
       "      <td>0.002928</td>\n",
       "      <td>0.002173</td>\n",
       "      <td>0.002485</td>\n",
       "      <td>0.002978</td>\n",
       "    </tr>\n",
       "    <tr>\n",
       "      <th>std</th>\n",
       "      <td>0.001193</td>\n",
       "      <td>0.001406</td>\n",
       "      <td>0.003693</td>\n",
       "      <td>0.001340</td>\n",
       "      <td>0.001598</td>\n",
       "      <td>0.001741</td>\n",
       "      <td>0.000873</td>\n",
       "      <td>0.002910</td>\n",
       "      <td>0.001971</td>\n",
       "      <td>0.002328</td>\n",
       "      <td>...</td>\n",
       "      <td>0.001616</td>\n",
       "      <td>0.001203</td>\n",
       "      <td>0.005825</td>\n",
       "      <td>0.001192</td>\n",
       "      <td>0.002657</td>\n",
       "      <td>0.001664</td>\n",
       "      <td>0.003254</td>\n",
       "      <td>0.001418</td>\n",
       "      <td>0.001997</td>\n",
       "      <td>0.002765</td>\n",
       "    </tr>\n",
       "    <tr>\n",
       "      <th>min</th>\n",
       "      <td>0.000000</td>\n",
       "      <td>0.000000</td>\n",
       "      <td>0.000000</td>\n",
       "      <td>0.000000</td>\n",
       "      <td>0.000000</td>\n",
       "      <td>0.000000</td>\n",
       "      <td>0.000000</td>\n",
       "      <td>0.000000</td>\n",
       "      <td>0.000000</td>\n",
       "      <td>0.000000</td>\n",
       "      <td>...</td>\n",
       "      <td>0.000000</td>\n",
       "      <td>0.000000</td>\n",
       "      <td>0.000000</td>\n",
       "      <td>0.000000</td>\n",
       "      <td>0.000000</td>\n",
       "      <td>0.000000</td>\n",
       "      <td>0.000000</td>\n",
       "      <td>0.000000</td>\n",
       "      <td>0.000000</td>\n",
       "      <td>0.000000</td>\n",
       "    </tr>\n",
       "    <tr>\n",
       "      <th>25%</th>\n",
       "      <td>0.000833</td>\n",
       "      <td>0.000000</td>\n",
       "      <td>0.001359</td>\n",
       "      <td>0.000756</td>\n",
       "      <td>0.001116</td>\n",
       "      <td>0.001019</td>\n",
       "      <td>0.000340</td>\n",
       "      <td>0.000625</td>\n",
       "      <td>0.000744</td>\n",
       "      <td>0.001116</td>\n",
       "      <td>...</td>\n",
       "      <td>0.001019</td>\n",
       "      <td>0.000000</td>\n",
       "      <td>0.000679</td>\n",
       "      <td>0.000679</td>\n",
       "      <td>0.001698</td>\n",
       "      <td>0.001019</td>\n",
       "      <td>0.000744</td>\n",
       "      <td>0.001116</td>\n",
       "      <td>0.001019</td>\n",
       "      <td>0.001019</td>\n",
       "    </tr>\n",
       "    <tr>\n",
       "      <th>50%</th>\n",
       "      <td>0.001563</td>\n",
       "      <td>0.000340</td>\n",
       "      <td>0.003397</td>\n",
       "      <td>0.001698</td>\n",
       "      <td>0.002038</td>\n",
       "      <td>0.001860</td>\n",
       "      <td>0.000744</td>\n",
       "      <td>0.001563</td>\n",
       "      <td>0.001698</td>\n",
       "      <td>0.002056</td>\n",
       "      <td>...</td>\n",
       "      <td>0.001860</td>\n",
       "      <td>0.000000</td>\n",
       "      <td>0.002717</td>\n",
       "      <td>0.001359</td>\n",
       "      <td>0.003057</td>\n",
       "      <td>0.001860</td>\n",
       "      <td>0.001953</td>\n",
       "      <td>0.002038</td>\n",
       "      <td>0.002038</td>\n",
       "      <td>0.002232</td>\n",
       "    </tr>\n",
       "    <tr>\n",
       "      <th>75%</th>\n",
       "      <td>0.002378</td>\n",
       "      <td>0.000893</td>\n",
       "      <td>0.006324</td>\n",
       "      <td>0.002717</td>\n",
       "      <td>0.003057</td>\n",
       "      <td>0.003057</td>\n",
       "      <td>0.001488</td>\n",
       "      <td>0.003397</td>\n",
       "      <td>0.002717</td>\n",
       "      <td>0.003736</td>\n",
       "      <td>...</td>\n",
       "      <td>0.002976</td>\n",
       "      <td>0.000679</td>\n",
       "      <td>0.006454</td>\n",
       "      <td>0.002232</td>\n",
       "      <td>0.004808</td>\n",
       "      <td>0.003057</td>\n",
       "      <td>0.003780</td>\n",
       "      <td>0.002976</td>\n",
       "      <td>0.003397</td>\n",
       "      <td>0.004076</td>\n",
       "    </tr>\n",
       "    <tr>\n",
       "      <th>max</th>\n",
       "      <td>0.009851</td>\n",
       "      <td>0.016644</td>\n",
       "      <td>0.027514</td>\n",
       "      <td>0.010789</td>\n",
       "      <td>0.010417</td>\n",
       "      <td>0.021739</td>\n",
       "      <td>0.005774</td>\n",
       "      <td>0.029830</td>\n",
       "      <td>0.028372</td>\n",
       "      <td>0.020380</td>\n",
       "      <td>...</td>\n",
       "      <td>0.010870</td>\n",
       "      <td>0.021739</td>\n",
       "      <td>0.053329</td>\n",
       "      <td>0.010234</td>\n",
       "      <td>0.024457</td>\n",
       "      <td>0.011719</td>\n",
       "      <td>0.028125</td>\n",
       "      <td>0.008492</td>\n",
       "      <td>0.014509</td>\n",
       "      <td>0.028533</td>\n",
       "    </tr>\n",
       "  </tbody>\n",
       "</table>\n",
       "<p>8 rows × 500 columns</p>\n",
       "</div>"
      ],
      "text/plain": [
       "              dim1         dim2         dim3         dim4         dim5  \\\n",
       "count  2093.000000  2093.000000  2093.000000  2093.000000  2093.000000   \n",
       "mean      0.001751     0.000756     0.004317     0.001853     0.002272   \n",
       "std       0.001193     0.001406     0.003693     0.001340     0.001598   \n",
       "min       0.000000     0.000000     0.000000     0.000000     0.000000   \n",
       "25%       0.000833     0.000000     0.001359     0.000756     0.001116   \n",
       "50%       0.001563     0.000340     0.003397     0.001698     0.002038   \n",
       "75%       0.002378     0.000893     0.006324     0.002717     0.003057   \n",
       "max       0.009851     0.016644     0.027514     0.010789     0.010417   \n",
       "\n",
       "              dim6         dim7         dim8         dim9        dim10  \\\n",
       "count  2093.000000  2093.000000  2093.000000  2093.000000  2093.000000   \n",
       "mean      0.002220     0.001019     0.002446     0.002088     0.002746   \n",
       "std       0.001741     0.000873     0.002910     0.001971     0.002328   \n",
       "min       0.000000     0.000000     0.000000     0.000000     0.000000   \n",
       "25%       0.001019     0.000340     0.000625     0.000744     0.001116   \n",
       "50%       0.001860     0.000744     0.001563     0.001698     0.002056   \n",
       "75%       0.003057     0.001488     0.003397     0.002717     0.003736   \n",
       "max       0.021739     0.005774     0.029830     0.028372     0.020380   \n",
       "\n",
       "          ...            dim491       dim492       dim493       dim494  \\\n",
       "count     ...       2093.000000  2093.000000  2093.000000  2093.000000   \n",
       "mean      ...          0.002134     0.000563     0.004586     0.001541   \n",
       "std       ...          0.001616     0.001203     0.005825     0.001192   \n",
       "min       ...          0.000000     0.000000     0.000000     0.000000   \n",
       "25%       ...          0.001019     0.000000     0.000679     0.000679   \n",
       "50%       ...          0.001860     0.000000     0.002717     0.001359   \n",
       "75%       ...          0.002976     0.000679     0.006454     0.002232   \n",
       "max       ...          0.010870     0.021739     0.053329     0.010234   \n",
       "\n",
       "            dim495       dim496       dim497       dim498       dim499  \\\n",
       "count  2093.000000  2093.000000  2093.000000  2093.000000  2093.000000   \n",
       "mean      0.003642     0.002200     0.002928     0.002173     0.002485   \n",
       "std       0.002657     0.001664     0.003254     0.001418     0.001997   \n",
       "min       0.000000     0.000000     0.000000     0.000000     0.000000   \n",
       "25%       0.001698     0.001019     0.000744     0.001116     0.001019   \n",
       "50%       0.003057     0.001860     0.001953     0.002038     0.002038   \n",
       "75%       0.004808     0.003057     0.003780     0.002976     0.003397   \n",
       "max       0.024457     0.011719     0.028125     0.008492     0.014509   \n",
       "\n",
       "            dim500  \n",
       "count  2093.000000  \n",
       "mean      0.002978  \n",
       "std       0.002765  \n",
       "min       0.000000  \n",
       "25%       0.001019  \n",
       "50%       0.002232  \n",
       "75%       0.004076  \n",
       "max       0.028533  \n",
       "\n",
       "[8 rows x 500 columns]"
      ]
     },
     "execution_count": 11,
     "metadata": {},
     "output_type": "execute_result"
    }
   ],
   "source": [
    "print('Means:')\n",
    "print(X_tr.mean(axis = 0)[0:5])\n",
    "print('Standard deviations:')\n",
    "print(X_tr.std(axis = 0)[0:5])\n",
    "X_tr.describe()"
   ]
  },
  {
   "cell_type": "markdown",
   "metadata": {},
   "source": [
    "### ========== Question 1.9 --- [3 marks] ==========\n",
    "Feature standardisation is a pre-processing technique used to transform data so that they have zero mean and unit standard deviation. For many algorithms, this is a very important step for training models (both regression and classification). Read about [feature standardisation](http://scikit-learn.org/0.17/modules/preprocessing.html) and make sure you understand what kind of transformation this method applies to the data.\n",
    "\n",
    "`Scikit-learn` offers a [class](http://scikit-learn.org/0.17/modules/generated/sklearn.preprocessing.StandardScaler.html) for feature standardisation. Instansiate a StandardScaler object and fit it using the **training features**. Use this fitted object to transform both your training and validation features to have a standard scale. \n",
    "\n",
    "Once your training and validation input data have been transformed, display the means and standard deviations of the first 5 attributes for **both** the training and validation sets. Are the results as you expected? Explain your answer in 2-3 sentences. Why didn't we use the validation set to standardise the data?\n",
    "\n",
    "**IMPORTANT: You should use the transformed data for the rest of this part.**"
   ]
  },
  {
   "cell_type": "code",
   "execution_count": 12,
   "metadata": {},
   "outputs": [
    {
     "name": "stdout",
     "output_type": "stream",
     "text": [
      "Mean of training set: [ -3.39485301e-17  -2.20665446e-17   2.44429417e-16   1.42583827e-16\n",
      "  -5.77125012e-17]\n",
      "Std of training set: [ 1.  1.  1.  1.  1.]\n",
      "Mean of validation set: [-0.00550612 -0.0382933   0.10915098  0.09369314  0.03057844]\n",
      "Std of validation set: [ 1.01310886  0.96981949  1.0492285   1.05684479  0.97471336]\n"
     ]
    }
   ],
   "source": [
    "scaler = preprocessing.StandardScaler().fit(X_tr)\n",
    "\n",
    "scaled_tr = scaler.transform(X_tr)\n",
    "scaled_val = scaler.transform(X_val)\n",
    "\n",
    "print('Mean of training set: {}'.format(scaled_tr.mean(axis = 0)[0:5]))\n",
    "print('Std of training set: {}'.format(scaled_tr.std(axis = 0)[0:5]))\n",
    "print('Mean of validation set: {}'.format(scaled_val.mean(axis = 0)[0:5]))\n",
    "print('Std of validation set: {}'.format(scaled_val.std(axis = 0)[0:5]))"
   ]
  },
  {
   "cell_type": "markdown",
   "metadata": {},
   "source": [
    "*Answer: * The transform method of the StandardScaler performs standardization by centering and scaling. Therefore, the standard deviation of the dimensions of the scaled training set is 1, as expected. The mean values are also really small due to scaling. As for the validation set, its standard deviation is close to 1, but not exactly, as the data used to fit the scaler was the training set. For the same reason, the mean is as shown. We didn't use the validation set to standardise the data as it is a smaller set of images."
   ]
  },
  {
   "cell_type": "markdown",
   "metadata": {},
   "source": [
    "### ========== Question 1.10 --- [3 marks] ==========\n",
    "By using the transformed input data, train a new `LogisticRegression` classifier. Again, set the `solver` parameter to `lbfgs` and use default settings for the other parameters. Report the classification accuracy on both the training and validation sets.\n",
    "\n",
    "Comment on how your model compares to the baseline classifier from Question 1.6? You may use additional plot(s) to support your explanation."
   ]
  },
  {
   "cell_type": "code",
   "execution_count": 13,
   "metadata": {},
   "outputs": [
    {
     "name": "stdout",
     "output_type": "stream",
     "text": [
      "Classification accuracy on training set: 0.811\n",
      "Classification accuracy on validation set: 0.643\n"
     ]
    }
   ],
   "source": [
    "lr = LogisticRegression(solver='lbfgs')\n",
    "lr.fit(scaled_tr, y_tr)\n",
    "print('Classification accuracy on training set: {:.3f}'.format(lr.score(scaled_tr, y_tr)))\n",
    "print('Classification accuracy on validation set: {:.3f}'.format(lr.score(scaled_val, y_val)))"
   ]
  },
  {
   "cell_type": "markdown",
   "metadata": {},
   "source": [
    "*Answer: * Looking at the accuracy of the classifier on the transformed data, we see a major improvement on the classification of the training set. The accuracy on the validation is also better than the baseline classifier's performance, but still not ideal for a classifier."
   ]
  },
  {
   "cell_type": "markdown",
   "metadata": {},
   "source": [
    "### ========== Question 1.11 --- [1 mark] ==========\n",
    "So far we have used default settings for training the logistic regression classifier. Now, we want to use [K-fold cross-validation](http://scikit-learn.org/0.17/modules/generated/sklearn.cross_validation.KFold.html) to optimise the regularisation parameter `C`. The regularisation parameter controls the degree to which we wish to penalise large magnitudes in the weight vector. This can help us prevent overfitting but, if set too high, could lead us to underfit too.\n",
    "\n",
    "Create a 3-fold cross-validation object. Set the `shuffle` parameter to `True` and the `random_state` to `0`. By using the cross-validation iterator, display the number of test samples for each fold."
   ]
  },
  {
   "cell_type": "code",
   "execution_count": 14,
   "metadata": {},
   "outputs": [
    {
     "name": "stdout",
     "output_type": "stream",
     "text": [
      "Fold 1 Number of test samples: 698\n",
      "Fold 2 Number of test samples: 698\n",
      "Fold 3 Number of test samples: 697\n"
     ]
    }
   ],
   "source": [
    "k_fold = KFold(n_splits = 3, shuffle = True, random_state = 0)\n",
    "# Show mean values\n",
    "k = 1\n",
    "for train_index, test_index in k_fold.split(train_A):\n",
    "    X_train, X_test = scaled_tr[train_index], scaled_tr[test_index]\n",
    "    print(\"Fold {} Number of test samples: {}\".format(k, X_test.shape[0]))\n",
    "    k += 1"
   ]
  },
  {
   "cell_type": "markdown",
   "metadata": {},
   "source": [
    "### ========== Question 1.12 --- [2 marks] ========== \n",
    "Using the cross-validation iterator from the previous question, perform a search for the best value for `C`. \n",
    "\n",
    "We are going to loop over each CV fold, and each value of `C`. The values of `C` to search should be 20 equally-spaced values **in log space** ranging from `1e-5` to `1e5` *(hint: look at the `logspace()` function in numpy)*. \n",
    "\n",
    "Create a 2-dimensional array and, for each cross-validation fold and parameter setting pair, compute and store the classification accuracy score e.g. store the score of fold 0 with parameter setting 1 at score_array[0,1]. As previously, set the `solver` parameter to `lbfgs` and use default settings for the other parameters (except for `C` obviously!).\n",
    "\n",
    "*(hint: you could use two loops in your code; one iterating over CV folds and another one iterating over the values for `C`)*. "
   ]
  },
  {
   "cell_type": "code",
   "execution_count": 15,
   "metadata": {
    "collapsed": true
   },
   "outputs": [],
   "source": [
    "C_range = np.logspace(-5, 5, 20)\n",
    "Matrix = np.zeros([3,20])\n",
    "# k_fold iterator\n",
    "k = 0\n",
    "for train_index, test_index in k_fold.split(scaled_tr):\n",
    "    X_train, X_test = scaled_tr[train_index], scaled_tr[test_index]\n",
    "    x = 0\n",
    "    for C in C_range:\n",
    "        lr_fold = LogisticRegression(C = C, solver='lbfgs')\n",
    "        lr_fold.fit(X_train, y_tr[train_index])\n",
    "        Matrix[k][x] = lr_fold.score(X_test, y_tr[test_index])\n",
    "        x += 1\n",
    "    k += 1"
   ]
  },
  {
   "cell_type": "markdown",
   "metadata": {},
   "source": [
    "### ========== Question 1.13 --- [1 mark] ========== \n",
    "Plot the mean classification performance (across CV folds) of the logistic regression classifier against the regularisation parameter `C` by using the range from Question 1.12. Use a logarithmic scale for the x-axis and label both axes appropriately. "
   ]
  },
  {
   "cell_type": "code",
   "execution_count": 16,
   "metadata": {},
   "outputs": [
    {
     "data": {
      "image/png": "[encoded data removed]",
      "text/plain": [
       "<matplotlib.figure.Figure at 0x7ff360533a10>"
      ]
     },
     "metadata": {},
     "output_type": "display_data"
    }
   ],
   "source": [
    "means = np.mean(Matrix, axis = 0)\n",
    "plt.scatter(C_range, means)\n",
    "plt.plot(C_range, means)\n",
    "plt.xscale('log')\n",
    "plt.ylabel('Performance')\n",
    "plt.xlabel('Penalty Parameter (log scale)')\n",
    "plt.show()"
   ]
  },
  {
   "cell_type": "markdown",
   "metadata": {},
   "source": [
    "### ========== Question 1.14 --- [2 marks] ==========\n",
    "Display the optimal value for the regularisation parameter `C` determined by the search results from Question 1.12. Similarly to Question 1.13, consider the mean classifiation accuracy across CV folds. By using the optimal value (i.e. the one that yields the highest average classification accuracy) train a new `LogisticRegression` classifier and report the classification accuracy on the validation set. *(Hint: Do not pick the optimal value \"by hand\", instead use an appropriate numpy function).*"
   ]
  },
  {
   "cell_type": "code",
   "execution_count": 17,
   "metadata": {
    "collapsed": true
   },
   "outputs": [],
   "source": [
    "def get_optimal_value(matrix, ranges):\n",
    "    return ranges[np.argmax(np.mean(matrix, axis = 0))]"
   ]
  },
  {
   "cell_type": "code",
   "execution_count": 18,
   "metadata": {},
   "outputs": [
    {
     "name": "stdout",
     "output_type": "stream",
     "text": [
      "Optimal value: 0.00428133239872\n",
      "Classification accuracy on training set: 0.780\n",
      "Classification accuracy on validation set: 0.696\n"
     ]
    }
   ],
   "source": [
    "optimal = get_optimal_value(Matrix, C_range)\n",
    "lr_best = LogisticRegression(C = optimal, solver = 'lbfgs')\n",
    "lr_best.fit(scaled_tr, y_tr)\n",
    "print('Optimal value: {}'.format(optimal))\n",
    "print('Classification accuracy on training set: {:.3f}'.format(lr_best.score(scaled_tr, y_tr)))\n",
    "print('Classification accuracy on validation set: {:.3f}'.format(lr_best.score(scaled_val, y_val)))"
   ]
  },
  {
   "cell_type": "markdown",
   "metadata": {},
   "source": [
    "### ========== Question 1.15 --- [1 mark] ========== \n",
    "Scikit-learn offers a [`LogisticRegressionCV`](http://scikit-learn.org/0.17/modules/generated/sklearn.linear_model.LogisticRegressionCV.html) module which implements Logistic Regression with builtin cross-validation to find out the optimal `C` parameter. You can specify the range for the `C` parameter, as well as the cross-validation method you want to use with the `Cs` and `cv` parameters, respectively. Use the `C` range you set up in Question 1.12 and the 3-fold cross-validation iterator from Question 1.11. Once again, train the models by using the `lbfgs` optimisation method and display the optimal value for the parameter `C`. Finally, display the classification accuracy on the validation set. Check your results are consistent with those from Question 1.14!"
   ]
  },
  {
   "cell_type": "code",
   "execution_count": 19,
   "metadata": {},
   "outputs": [
    {
     "name": "stdout",
     "output_type": "stream",
     "text": [
      "Optimal Value: [ 0.00428133]\n",
      "Classification accuracy on validation set: 0.696\n"
     ]
    }
   ],
   "source": [
    "# Use same range and k fold cv. Fit the training set\n",
    "lrcv = LogisticRegressionCV(Cs = C_range, cv = k_fold, solver = 'lbfgs')\n",
    "lrcv.fit(scaled_tr, y_tr)\n",
    "# Optimal value shown by the C_ attribute of LogisticRegressionCV\n",
    "print('Optimal Value: {}'.format(lrcv.C_))\n",
    "# Show accuracy on validation set\n",
    "print('Classification accuracy on validation set: {:.3f}'.format(lrcv.score(scaled_val, y_val)))"
   ]
  },
  {
   "cell_type": "markdown",
   "metadata": {},
   "source": [
    "### ========== Question 1.16 --- [1 mark] ==========\n",
    "Now, we want to validate the importance of various features for classification. For this purpose, we will use a [`RandomForestClassifier`](http://scikit-learn.org/stable/modules/generated/sklearn.ensemble.RandomForestClassifier.html) (you might want to refer to the labs if you are unsure how we can estimate feature importances with decision tree and random forest models).\n",
    "\n",
    "Initialise a random forest classifier and fit the model by using training data only and 500 trees (i.e. `n_estimators`). Set the `RandomState` equal to 42 to ensure reproducible results. Report the accuracy score on both the training and validation sets."
   ]
  },
  {
   "cell_type": "code",
   "execution_count": 20,
   "metadata": {},
   "outputs": [
    {
     "name": "stdout",
     "output_type": "stream",
     "text": [
      "Classification accuracy on training set: 1.000\n",
      "Classification accuracy on validation set: 0.693\n"
     ]
    }
   ],
   "source": [
    "rf = RandomForestClassifier(n_estimators = 500, random_state = 42)\n",
    "rf.fit(scaled_tr, y_tr)\n",
    "prediction_tr = rf.predict(X = scaled_tr)\n",
    "prediction_val = rf.predict(X = scaled_val)\n",
    "print('Classification accuracy on training set: {:.3f}'.format(accuracy_score(y_tr,prediction_tr)))\n",
    "print('Classification accuracy on validation set: {:.3f}'.format(accuracy_score(y_val,prediction_val)))"
   ]
  },
  {
   "cell_type": "markdown",
   "metadata": {},
   "source": [
    "### ========== Question 1.17 --- [2 marks] ==========\n",
    "Comment on the results above. Do you find the discrepancy between training and validation accuracies surprising?"
   ]
  },
  {
   "cell_type": "markdown",
   "metadata": {},
   "source": [
    "*Answer: * As we can see from the accuracy shown above, the random forest classifier performs perfectly when classifying the training set, but its accuracy on the validation set is much less. This is not surprising. The forest built from the training set apparently fit the training data perfectly(overfitting), thus performed poorly on a new set of data, i.e. the validation set."
   ]
  },
  {
   "cell_type": "markdown",
   "metadata": {},
   "source": [
    "### ========== Question 1.18 --- [2 marks] ==========\n",
    "By using the random forest model from the previous question order the features by descending importance and display the names of the 50 most important features."
   ]
  },
  {
   "cell_type": "code",
   "execution_count": 21,
   "metadata": {
    "collapsed": true
   },
   "outputs": [],
   "source": [
    "def get_importances(rf):\n",
    "    # Get the feature importances of the model\n",
    "    importances = rf.feature_importances_\n",
    "    indices = np.argsort(importances)[::-1]\n",
    "\n",
    "    for f in range(50):\n",
    "        print(\"%d. feature %d (%f)\" % (f + 1, indices[f], importances[indices[f]]))"
   ]
  },
  {
   "cell_type": "code",
   "execution_count": 22,
   "metadata": {},
   "outputs": [
    {
     "name": "stdout",
     "output_type": "stream",
     "text": [
      "1. feature 20 (0.007572)\n",
      "2. feature 50 (0.007559)\n",
      "3. feature 359 (0.007032)\n",
      "4. feature 3 (0.006193)\n",
      "5. feature 478 (0.006054)\n",
      "6. feature 75 (0.006026)\n",
      "7. feature 282 (0.005811)\n",
      "8. feature 460 (0.005606)\n",
      "9. feature 342 (0.005451)\n",
      "10. feature 397 (0.004859)\n",
      "11. feature 347 (0.004783)\n",
      "12. feature 73 (0.004742)\n",
      "13. feature 484 (0.004716)\n",
      "14. feature 355 (0.004702)\n",
      "15. feature 329 (0.004640)\n",
      "16. feature 216 (0.004606)\n",
      "17. feature 262 (0.004577)\n",
      "18. feature 221 (0.004218)\n",
      "19. feature 133 (0.004131)\n",
      "20. feature 499 (0.004064)\n",
      "21. feature 273 (0.004042)\n",
      "22. feature 253 (0.004002)\n",
      "23. feature 205 (0.003890)\n",
      "24. feature 422 (0.003867)\n",
      "25. feature 346 (0.003813)\n",
      "26. feature 16 (0.003728)\n",
      "27. feature 325 (0.003704)\n",
      "28. feature 89 (0.003703)\n",
      "29. feature 91 (0.003701)\n",
      "30. feature 328 (0.003687)\n",
      "31. feature 213 (0.003668)\n",
      "32. feature 321 (0.003613)\n",
      "33. feature 288 (0.003595)\n",
      "34. feature 53 (0.003591)\n",
      "35. feature 439 (0.003581)\n",
      "36. feature 426 (0.003576)\n",
      "37. feature 72 (0.003462)\n",
      "38. feature 34 (0.003461)\n",
      "39. feature 76 (0.003414)\n",
      "40. feature 311 (0.003363)\n",
      "41. feature 314 (0.003337)\n",
      "42. feature 95 (0.003312)\n",
      "43. feature 287 (0.003308)\n",
      "44. feature 482 (0.003259)\n",
      "45. feature 298 (0.003251)\n",
      "46. feature 47 (0.003206)\n",
      "47. feature 441 (0.003171)\n",
      "48. feature 200 (0.003056)\n",
      "49. feature 343 (0.003012)\n",
      "50. feature 293 (0.003006)\n"
     ]
    }
   ],
   "source": [
    "get_importances(rf)"
   ]
  },
  {
   "cell_type": "markdown",
   "metadata": {},
   "source": [
    "### ========== Question 1.19 --- [3 marks] ==========\n",
    "Next, we would like to test the performance of support vector machines. Train three support vector classifiers with the following kernels: linear, radial basis function, and polynomial. Report the classification accuracy of each of the three classifiers on both the training and validation sets."
   ]
  },
  {
   "cell_type": "code",
   "execution_count": 23,
   "metadata": {},
   "outputs": [
    {
     "name": "stdout",
     "output_type": "stream",
     "text": [
      "Linear SVC classification accuracy on training set: 0.813\n",
      "Linear SVC classification accuracy on test set: 0.642\n",
      "RBF SVC classification accuracy on training set: 0.911\n",
      "RBF SVC classification accuracy on test set: 0.730\n",
      "Poly SVC classification accuracy on training set: 0.991\n",
      "Poly SVC classification accuracy on test set: 0.702\n"
     ]
    }
   ],
   "source": [
    "svc_linear = LinearSVC()\n",
    "svc_linear.fit(scaled_tr, y_tr)\n",
    "svc_rbf = SVC(kernel = 'rbf')\n",
    "svc_rbf.fit(scaled_tr, y_tr)\n",
    "svc_poly = SVC(kernel = 'poly')\n",
    "svc_poly.fit(scaled_tr, y_tr)\n",
    "print('Linear SVC classification accuracy on training set: {:.3f}'.format(svc_linear.score(scaled_tr, y_tr)))\n",
    "print('Linear SVC classification accuracy on test set: {:.3f}'.format(svc_linear.score(scaled_val, y_val)))\n",
    "print('RBF SVC classification accuracy on training set: {:.3f}'.format(svc_rbf.score(scaled_tr, y_tr)))\n",
    "print('RBF SVC classification accuracy on test set: {:.3f}'.format(svc_rbf.score(scaled_val, y_val)))\n",
    "print('Poly SVC classification accuracy on training set: {:.3f}'.format(svc_poly.score(scaled_tr, y_tr)))\n",
    "print('Poly SVC classification accuracy on test set: {:.3f}'.format(svc_poly.score(scaled_val, y_val)))"
   ]
  },
  {
   "cell_type": "markdown",
   "metadata": {},
   "source": [
    "### ========== Question 1.20 --- [3 marks] ==========\n",
    "At this point, we would like to get an idea of what kind of decision boundaries we can get with the three types of SVM kernels we introduced in the previous question. For visualisation, however, we can only make use of 2D input data. For this purpose, we select to use the 21st and 76th columns of our training features (*hint: remember that Python uses 0-based indexing*). \n",
    "\n",
    "Execute the cell below to define a useful function which we will be using to plot the decision boundaries *(it is also not a bad idea to try to understand what this functions does)*. \n",
    "\n",
    "Then train three distinct SVM classifiers by using the 2D input data mentioned above and default parameters:\n",
    "* a linear SVC\n",
    "* an RBF SVC \n",
    "* a polynomial SVC\n",
    "\n",
    "Finally, create a list containing the three classifiers you have just trained. Use this list as an input to the provided function along with the used training features and observe the outcome. You can use the additional `title` parameter to set the titles in the subplots. Comment on the shape of the boundaries and what this means for classification accuracy in 1-2 sentences.\n",
    "\n",
    "*(Acknowledgement: this Question has been heavily based on [this example](http://scikit-learn.org/0.17/auto_examples/svm/plot_iris.html) from scikit-learn's documentation.)*"
   ]
  },
  {
   "cell_type": "code",
   "execution_count": 24,
   "metadata": {
    "collapsed": true
   },
   "outputs": [],
   "source": [
    "def show_svc_decision_boundaries(clfs, X, title=None):\n",
    "    \"\"\"Plots decision boundaries for classifiers with 2D inputs.\n",
    "    \n",
    "    Parameters\n",
    "    ----------\n",
    "    clf : list\n",
    "        Classifiers for which decision boundaries will be displayed.\n",
    "    X : array\n",
    "        Input features used to train the classifiers.\n",
    "    title : list, optional\n",
    "        Titles for classifiers.\n",
    "    \n",
    "    \"\"\"\n",
    "    \n",
    "    assert X.shape[1] == 2 # Input should be 2D\n",
    "    if title is not None:\n",
    "        assert len(clfs) == len(title)\n",
    "    \n",
    "    h = .04 # step size in the mesh\n",
    "    x_min, x_max = X[:, 0].min() - 1, X[:, 0].max() + 1\n",
    "    y_min, y_max = X[:, 1].min() - 1, X[:, 1].max() + 1\n",
    "    xx, yy = np.meshgrid(np.arange(x_min, x_max, h),\n",
    "                         np.arange(y_min, y_max, h))\n",
    "    plt.figure(figsize=(15,5))\n",
    "    for i, clf in enumerate(clfs):\n",
    "        plt.subplot(1, len(clfs), i + 1)\n",
    "        plt.subplots_adjust(wspace=0.4, hspace=0.4)\n",
    "        Z = clf.predict(np.c_[xx.ravel(), yy.ravel()])\n",
    "        Z = Z.reshape(xx.shape)\n",
    "        plt.contourf(xx, yy, Z, cmap=plt.cm.Paired, alpha=0.8)\n",
    "        # Training points\n",
    "        plt.scatter(X[:, 0], X[:, 1], c=y_tr, cmap=plt.cm.Paired)\n",
    "        plt.xlabel('Feature 1')\n",
    "        plt.ylabel('Feature 2')\n",
    "        plt.xlim(xx.min(), xx.max())\n",
    "        plt.ylim(yy.min(), yy.max())\n",
    "        plt.xticks(())\n",
    "        plt.yticks(())\n",
    "        if title is not None:\n",
    "            plt.title(title[i])"
   ]
  },
  {
   "cell_type": "code",
   "execution_count": 25,
   "metadata": {},
   "outputs": [
    {
     "data": {
      "image/png": "[encoded data removed]",
      "text/plain": [
       "<matplotlib.figure.Figure at 0x7ff35f7ee950>"
      ]
     },
     "metadata": {},
     "output_type": "display_data"
    }
   ],
   "source": [
    "# 2D data\n",
    "X_tr_21 = scaled_tr[:,20]\n",
    "X_tr_76 = scaled_tr[:, 75]\n",
    "X_tr_2D = np.concatenate([X_tr_21[:, None],X_tr_76[:, None]], axis = 1)\n",
    "\n",
    "# SVMs\n",
    "svc_linear_2D = LinearSVC()\n",
    "svc_linear_2D.fit(X_tr_2D, y_tr)\n",
    "\n",
    "svc_rbf_2D = SVC(kernel = 'rbf')\n",
    "svc_rbf_2D.fit(X_tr_2D, y_tr)\n",
    "\n",
    "svc_poly_2D = SVC(kernel = 'poly')\n",
    "svc_poly_2D.fit(X_tr_2D, y_tr)\n",
    "\n",
    "# Create a list with the classifiers\n",
    "clfs = list()\n",
    "clfs.append(svc_linear_2D)\n",
    "clfs.append(svc_rbf_2D)\n",
    "clfs.append(svc_poly_2D)\n",
    "\n",
    "\n",
    "show_svc_decision_boundaries(clfs, X_tr_2D, title = ['Linear SVC', 'RBF SVC', 'Polynomial SVC'])"
   ]
  },
  {
   "cell_type": "code",
   "execution_count": 26,
   "metadata": {},
   "outputs": [
    {
     "name": "stdout",
     "output_type": "stream",
     "text": [
      "Linear SVC classification accuracy on training set: 0.628\n",
      "Linear SVC classification accuracy on validation set: 0.624\n",
      "RBF SVC classification accuracy on training set: 0.636\n",
      "RBF SVC classification accuracy on validation set: 0.626\n",
      "Poly SVC classification accuracy on training set: 0.591\n",
      "Poly SVC classification accuracy on validation set: 0.565\n"
     ]
    }
   ],
   "source": [
    "# 2D validation set data\n",
    "X_val_21 = scaled_val[:,20]\n",
    "X_val_76 = scaled_val[:, 75]\n",
    "X_val_2D = np.concatenate([X_val_21[:, None],X_val_76[:, None]], axis = 1)\n",
    "\n",
    "print('Linear SVC classification accuracy on training set: {:.3f}'.format(svc_linear_2D.score(X_tr_2D, y_tr)))\n",
    "print('Linear SVC classification accuracy on validation set: {:.3f}'.format(svc_linear_2D.score(X_val_2D, y_val)))\n",
    "print('RBF SVC classification accuracy on training set: {:.3f}'.format(svc_rbf_2D.score(X_tr_2D, y_tr)))\n",
    "print('RBF SVC classification accuracy on validation set: {:.3f}'.format(svc_rbf_2D.score(X_val_2D, y_val)))\n",
    "print('Poly SVC classification accuracy on training set: {:.3f}'.format(svc_poly_2D.score(X_tr_2D, y_tr)))\n",
    "print('Poly SVC classification accuracy on validation set: {:.3f}'.format(svc_poly_2D.score(X_val_2D, y_val)))"
   ]
  },
  {
   "cell_type": "markdown",
   "metadata": {},
   "source": [
    "*Answer: * The above decision boundaries are not very clear boundaries for separation of the features. There are a lot of points of both colors in both split sectors. This suggests (and is also confirmed by the accuracies shown above) that the classifiers do not perform very well."
   ]
  },
  {
   "cell_type": "markdown",
   "metadata": {},
   "source": [
    "### ========== Question 1.21 --- [5 marks] ==========\n",
    "So far we have used default parameters for training the SVM classifiers. Now we want to tune the parameters by using cross-validation. \n",
    "\n",
    "By using the `K-fold` iterator from Question 1.11 and training data only, estimate the classification accuracy of an SVM classifier with RBF kernel, while you vary the penalty parameter `C` in a logarithmic range `np.logspace(-2, 3, 10)`. Set the kernel coefficient parameter `gamma` to `auto` for this question. \n",
    "\n",
    "Plot the mean cross-validated classification accuracy against the regularisation parameter `C` by using a log-scale for the x-axis. Display the highest obtained mean accuracy score and the value of `C` which yielded it. Label axes appropriately. \n",
    "\n",
    "Finally, train a classifier by using the optimal value for this parameter (without using cross-validation at this stage) and report the classification accuracy on the training and validation sets. "
   ]
  },
  {
   "cell_type": "code",
   "execution_count": 61,
   "metadata": {
    "collapsed": true
   },
   "outputs": [],
   "source": [
    "# Specific for RBF kernel\n",
    "# Can produce results on k-fold and for both penalty parameter range and gamma range\n",
    "def produce_rbf_svm_classifier(k_fold, tr_set, val_set, target_tr, target_val, type_of_space, space, results, C = 1.0):\n",
    "    # C space\n",
    "    if (type_of_space == 'C'):\n",
    "        k = 0\n",
    "        for train_index, test_index in k_fold.split(tr_set):\n",
    "            X_train, X_test = tr_set[train_index], tr_set[test_index]\n",
    "            x = 0\n",
    "            for s in space:\n",
    "                svc_rbf_cv = SVC(C = s, kernel = 'rbf', gamma = 'auto')\n",
    "                svc_rbf_cv.fit(X_train, target_tr[train_index])\n",
    "                results[k][x] = svc_rbf_cv.score(X_test, target_tr[test_index])\n",
    "                x += 1\n",
    "            k += 1\n",
    "    # Gamma space\n",
    "    elif (type_of_space == 'G'):\n",
    "        k = 0\n",
    "        for train_index, test_index in k_fold.split(tr_set):\n",
    "            X_train, X_test = tr_set[train_index], tr_set[test_index]\n",
    "            x = 0\n",
    "            for s in space:\n",
    "                svc_rbf_cv = SVC(C = C, kernel = 'rbf', gamma = s)\n",
    "                svc_rbf_cv.fit(X_train, target_tr[train_index])\n",
    "                results[k][x] = svc_rbf_cv.score(X_test, target_tr[test_index])\n",
    "                x += 1\n",
    "            k +=1\n",
    "            \n",
    "    # Plot accuracy\n",
    "    means = np.mean(results, axis = 0)\n",
    "    plt.scatter(space, means)\n",
    "    plt.plot(space, means)\n",
    "    plt.xscale('log')\n",
    "    plt.ylabel('Performance')\n",
    "    if (type_of_space == 'C'):\n",
    "        plt.xlabel('Penalty Parameter (log scale)')\n",
    "    elif (type_of_space == 'G'):\n",
    "        plt.xlabel('Kernel coefficient (log scale)')\n",
    "    plt.show()\n",
    "\n",
    "    # Train the classifier with optimal value depending on which space we chose to vary\n",
    "    opt_value = get_optimal_value(results, space)\n",
    "    if (type_of_space == 'C'):\n",
    "        svc = SVC(C = opt_value, kernel = 'rbf', gamma = 'auto')\n",
    "    elif (type_of_space == 'G'):\n",
    "        svc = SVC(C = C, kernel = 'rbf', gamma = opt_value)\n",
    "    \n",
    "    # Fit the training set\n",
    "    svc.fit(tr_set, target_tr)\n",
    "    \n",
    "    print('Optimal value: {}'.format(opt_value))\n",
    "    print('Classification accuracy on training set: {:.3f}'.format(svc.score(tr_set, target_tr)))\n",
    "    print('Classification accuracy on test set: {:.3f}'.format(svc.score(val_set, target_val)))"
   ]
  },
  {
   "cell_type": "code",
   "execution_count": 28,
   "metadata": {},
   "outputs": [
    {
     "data": {
      "image/png": "[encoded data removed]",
      "text/plain": [
       "<matplotlib.figure.Figure at 0x7ff35f5dfe50>"
      ]
     },
     "metadata": {},
     "output_type": "display_data"
    },
    {
     "name": "stdout",
     "output_type": "stream",
     "text": [
      "Optimal value: 1.6681005372\n",
      "Classification accuracy on training set: 0.975\n",
      "Classification accuracy on test set: 0.728\n"
     ]
    }
   ],
   "source": [
    "results = np.zeros([3,10])\n",
    "C_range = np.logspace(-2, 3, 10)\n",
    "\n",
    "produce_rbf_svm_classifier(k_fold, scaled_tr, scaled_val, y_tr, y_val, 'C', C_range, results)"
   ]
  },
  {
   "cell_type": "markdown",
   "metadata": {},
   "source": [
    "### ========== Question 1.22 --- [5 marks] ==========\n",
    "Now we turn to the kernel coefficient `gamma` parameter. By using the same procedure as in the previous question, estimate the classification accuracy of an SVM classifier with RBF kernel while you vary the `gamma` parameter in a logarithmic range `logspace(-5, 0, 10)`. Fix the penalty parameter `C=1.0`.\n",
    "\n",
    "Plot the mean cross-validated classification accuracy against the parameter `gamma` by using a log-scale for the x-axis. Display the highest obtained mean accuracy score and the value of `gamma` which yielded it.  Label axes appropriately.\n",
    "\n",
    "Finally, train a classifier by using the optimal value for this parameter (without using cross-validation at this stage) and report the classification accuracy on the training and validation sets. "
   ]
  },
  {
   "cell_type": "code",
   "execution_count": 29,
   "metadata": {},
   "outputs": [
    {
     "data": {
      "image/png": "[encoded data removed]",
      "text/plain": [
       "<matplotlib.figure.Figure at 0x7ff35dc390d0>"
      ]
     },
     "metadata": {},
     "output_type": "display_data"
    },
    {
     "name": "stdout",
     "output_type": "stream",
     "text": [
      "Optimal value: 0.0016681005372\n",
      "Classification accuracy on training set: 0.891\n",
      "Classification accuracy on test set: 0.727\n"
     ]
    }
   ],
   "source": [
    "results_g = np.zeros([3,10])\n",
    "gamma_range = np.logspace(-5, 0, 10)\n",
    "\n",
    "produce_rbf_svm_classifier(k_fold, scaled_tr, scaled_val, y_tr, y_val, 'G', gamma_range, results_g)"
   ]
  },
  {
   "cell_type": "markdown",
   "metadata": {},
   "source": [
    "### ========== Question 1.23 --- [7 marks] ==========\n",
    "Now we wish to tune both the `C` and `gamma` parameters simultaneously. To save computational time, we will now constrain the parameter search space. Define a `4 X 4` grid for the two parameters, as follows:\n",
    "* `C`: `np.logspace(-2, 1, 4)`\n",
    "* `gamma`: `np.logspace(-4, -1, 4)`\n",
    "\n",
    "Estimate the mean cross-validated classification accuracy by using training data only and all possible configurations for the two parameters. \n",
    "\n",
    "Use a [heatmap](https://seaborn.github.io/generated/seaborn.heatmap.html?highlight=heatmap#seaborn.heatmap) to visualise the mean cross-validated classification accuracy for all `C`-`gamma` pairs. Label axes appropriately and display the values for `C` and `gamma` for the best performing configuration. \n",
    "\n",
    "Finally, by using the optimal configuration, train a classifier (without using cross-validation) and report the classification accuracy on the training and validation sets."
   ]
  },
  {
   "cell_type": "code",
   "execution_count": 30,
   "metadata": {
    "collapsed": true
   },
   "outputs": [],
   "source": [
    "# Different procedure for pairs of C and G\n",
    "C_space = np.logspace(-2, 1, 4)\n",
    "gamma_space = np.logspace(-4, -1, 4)\n",
    "pairs_results = np.zeros([3,4,4])\n",
    "\n",
    "# Use the k_fold specified earlier\n",
    "k = 0\n",
    "for train_index, test_index in k_fold.split(scaled_tr):\n",
    "    X_train, X_test = scaled_tr[train_index], scaled_tr[test_index]\n",
    "    i = 0\n",
    "    for C in C_space:\n",
    "        j = 0\n",
    "        for g in gamma_space:\n",
    "            svc_rbf_cv = SVC(C = C, kernel = 'rbf', gamma = g)\n",
    "            svc_rbf_cv.fit(X_train, y_tr[train_index])\n",
    "            pairs_results[k][j][i] = svc_rbf_cv.score(X_test, y_tr[test_index])\n",
    "            j += 1\n",
    "        i += 1\n",
    "    k +=1"
   ]
  },
  {
   "cell_type": "code",
   "execution_count": 31,
   "metadata": {},
   "outputs": [
    {
     "name": "stdout",
     "output_type": "stream",
     "text": [
      "Optimal C: 1.0\n",
      "Optimal gamma: 0.001\n",
      "Classification accuracy on training set: 0.835\n",
      "Classification accuracy on test set: 0.721\n"
     ]
    },
    {
     "data": {
      "image/png": "[encoded data removed]",
      "text/plain": [
       "<matplotlib.figure.Figure at 0x7ff35f636ed0>"
      ]
     },
     "metadata": {},
     "output_type": "display_data"
    }
   ],
   "source": [
    "# Produce heatmap\n",
    "mean_perf = np.mean(pairs_results, axis = 0)\n",
    "sns.heatmap(mean_perf, xticklabels=C_space, yticklabels=gamma_space, annot=True)\n",
    "\n",
    "# Converts to a tuple coordinate to get the optimal values from each space\n",
    "opt = np.unravel_index(mean_perf.argmax(), mean_perf.shape)\n",
    "\n",
    "opt_c = C_space[opt[1]]\n",
    "opt_g = gamma_space[opt[0]]\n",
    "\n",
    "print('Optimal C: {}'.format(opt_c))\n",
    "print('Optimal gamma: {}'.format(opt_g))\n",
    "\n",
    "# Train classifier\n",
    "svc_rbf_cv_best = SVC(C = opt_c, kernel = 'rbf', gamma = opt_g)\n",
    "svc_rbf_cv_best.fit(scaled_tr, y_tr)\n",
    "print('Classification accuracy on training set: {:.3f}'.format(svc_rbf_cv_best.score(scaled_tr, y_tr)))\n",
    "print('Classification accuracy on test set: {:.3f}'.format(svc_rbf_cv_best.score(scaled_val, y_val)))"
   ]
  },
  {
   "cell_type": "markdown",
   "metadata": {},
   "source": [
    "### ========== Question 1.24 --- [3 marks] ==========\n",
    "Is the classification accuracy on the validation set higher than in previous questions (1.22-1.23)? If not, can you explain why? Can you think of a way of further improving the performance of the classifier? You don't need to implement your suggestion at this stage. Would there be any associated problems with your suggested approach? "
   ]
  },
  {
   "cell_type": "markdown",
   "metadata": {},
   "source": [
    "*Answer: * The classification accuracy on the validation set is slightly lower than in previous questions. For question 1.21, we set the gamma to auto and found that the optimal value was 1.668 and for question 1.22, we set C to 1.0 and found that the optimal value was 0.001668. For both questions we split our range into more values, therefore, more iterations took place and better solutions were found. When testing the pairs, we used a smaller range for both C and gamma and concluded to 1.0 and 0.001. We could use a bigger range to improve the performance and find better optimal values pairs. Of course this computation will be more expensive and time-consuming."
   ]
  },
  {
   "cell_type": "markdown",
   "metadata": {},
   "source": [
    "### ========== Question 1.25 --- [5 marks] ==========\n",
    "Now we want to evaluate the performance of an SVM classifier with polynomial kernel. Once again, we will tune the `degree` parameter by using cross-validation (similarly to what we did in Questions 1.21 and 1.22).\n",
    "\n",
    "By using the `K-fold` iterator from Question 1.11 and training data only, estimate the classification accuracy of polynomial SVM classifier, while you vary the `degree` parameter in the range `np.arange(1,8)`. \n",
    "\n",
    "Plot the mean cross-validated classification accuracy against the polynomial degree. Display the highest obtained mean accuracy score and the value of the `degree` parameter which yielded it. Label axes appropriately. \n",
    "\n",
    "Finally, train a classifier by using the optimal value for this parameter (without using cross-validation at this stage) and report the classification accuracy on the training and validation sets. "
   ]
  },
  {
   "cell_type": "code",
   "execution_count": 32,
   "metadata": {},
   "outputs": [
    {
     "data": {
      "image/png": "[encoded data removed]",
      "text/plain": [
       "<matplotlib.figure.Figure at 0x7ff35dab6d10>"
      ]
     },
     "metadata": {},
     "output_type": "display_data"
    },
    {
     "name": "stdout",
     "output_type": "stream",
     "text": [
      "Optimal value: 1\n",
      "Classification accuracy on training set: 0.784\n",
      "Classification accuracy on test set: 0.689\n"
     ]
    }
   ],
   "source": [
    "results_degree = np.zeros([3,7])\n",
    "degree_range = np.arange(1,8)\n",
    "\n",
    "# Use the k_fold specified earlier\n",
    "k = 0\n",
    "for train_index, test_index in k_fold.split(scaled_tr):\n",
    "    X_train, X_test = scaled_tr[train_index], scaled_tr[test_index]\n",
    "    x = 0\n",
    "    for d in degree_range:\n",
    "        svc_poly = SVC(kernel = 'poly', degree = d)\n",
    "        svc_poly.fit(X_train, y_tr[train_index])\n",
    "        results_degree[k][x] = svc_poly.score(X_test, y_tr[test_index])\n",
    "        x += 1\n",
    "    k +=1\n",
    "    \n",
    "# Plot accuracy\n",
    "means = np.mean(results_degree, axis = 0)\n",
    "plt.scatter(degree_range, means)\n",
    "plt.plot(degree_range, means)\n",
    "plt.ylabel('Performance')\n",
    "plt.xlabel('Degree')\n",
    "plt.show()\n",
    "\n",
    "# Train the classifier with optimal value depending on which space we chose to vary\n",
    "opt_value = get_optimal_value(results_degree, degree_range)\n",
    "svc_opt = SVC(kernel = 'poly', degree = opt_value)\n",
    "\n",
    "# Fit the training set\n",
    "svc_opt.fit(scaled_tr, y_tr)\n",
    "\n",
    "print('Optimal value: {}'.format(opt_value))\n",
    "print('Classification accuracy on training set: {:.3f}'.format(svc_opt.score(scaled_tr, y_tr)))\n",
    "print('Classification accuracy on test set: {:.3f}'.format(svc_opt.score(scaled_val, y_val)))"
   ]
  },
  {
   "cell_type": "markdown",
   "metadata": {},
   "source": [
    "### ========== Question 1.26 --- [4 marks] ==========\n",
    "\n",
    "You might have noticed that so far, we have used cross-validation for optimising the various tuning parameters (e.g. regularisation parameter in logistic regression, SVM kernel parameters) rather than hold-out validation, although we did have access to a validation set. Why do you think this is a good/bad idea? Give one advantage and one disadvantage of the two different approaches. Which one would you trust more in practice?"
   ]
  },
  {
   "cell_type": "markdown",
   "metadata": {},
   "source": [
    "*Answer: * Both validation methods have pros and cons and although we had a validation set we chose not to use the hold-out validation method. \n",
    "\n",
    "Having independent training and test sets is the advantage of using the hold-out validation method. This splitting of the data into the two sets avoids the overlap between the two sets, thus producing a more accurate representation of the performance of the classifier used. On the other side, splitting the data means we have reduced data for both training and testing.\n",
    "\n",
    "Using the cross-validation method, we get a more accurate estimation of the classifier's performance, as we are splitting the data k times and measure the classifier's performance on each fold. The downside is the training and test data overlap each time.\n",
    "\n",
    "In practice, I would trust more the cross-validation method, because essentially it's like a repeated hold-out validation but instead of using separate training and test sets, each time we estimate accuracy on the split of the data. This can potentially improve the classifier, as data points are used in both training and testing."
   ]
  },
  {
   "cell_type": "markdown",
   "metadata": {},
   "source": [
    "### ========== Question 1.27 --- [6 marks] ==========\n",
    "\n",
    "Reload the full training and validation data that contain all indicator variables for all object categories. Remove the `imgId` attribute but keep all of the class indicator variables in the dataset this time. Your training features should include all attributes except `is_person` which should be your target variable. \n",
    "\n",
    "Once again, use a [StandardScaler](http://scikit-learn.org/0.17/modules/generated/sklearn.preprocessing.StandardScaler.html) to standardise your training and validation features. Then train a Random Forest Classifier by using the entropy `criterion`, 500 `n_estimators`, and also set the `random_state` to 31. Report the classification accuracy on the training and validation sets.\n",
    "\n",
    "Similarly to what we did in Question 1.18, order the features by decreasing importance and display the 50 most important features. \n",
    "\n",
    "Finally, answer the following questions:\n",
    "* What do you notice by looking at the list of the best 50 features?\n",
    "* How does the performance differ with respect to the case when the additional class indicator variables are not present (Question 1.16)? Relate your observations to the observed feature ranking.\n",
    "* Would it be easy to make use of the results in practice? Briefly explain your reasoning.\n",
    "\n",
    "*(Hint: you might want to look at some of the [images](http://www.inf.ed.ac.uk/teaching/courses/iaml/2014/assts/asst3/images.html) to justify your explanations.)*"
   ]
  },
  {
   "cell_type": "code",
   "execution_count": 33,
   "metadata": {},
   "outputs": [
    {
     "name": "stdout",
     "output_type": "stream",
     "text": [
      "Train Images: Number of instances: 2093, number of attributes: 518\n",
      "Valid Images: Number of instances: 1113, number of attributes: 518\n"
     ]
    }
   ],
   "source": [
    "full_X_tr = train_A.drop(['imgId', 'is_person'], axis = 1)\n",
    "full_y_tr = train_A['is_person']\n",
    "full_X_val = valid_A.drop(['imgId', 'is_person'], axis = 1)\n",
    "full_y_val = valid_A['is_person']\n",
    "print('Train Images: Number of instances: {}, number of attributes: {}'.format(full_X_tr.shape[0], full_X_tr.shape[1]))\n",
    "print('Valid Images: Number of instances: {}, number of attributes: {}'.format(full_X_val.shape[0], full_X_val.shape[1]))"
   ]
  },
  {
   "cell_type": "code",
   "execution_count": 34,
   "metadata": {},
   "outputs": [
    {
     "name": "stdout",
     "output_type": "stream",
     "text": [
      "Mean of training set: [ -3.39485301e-17  -2.20665446e-17   2.44429417e-16   1.42583827e-16\n",
      "  -5.77125012e-17]\n",
      "Std of training set: [ 1.  1.  1.  1.  1.]\n",
      "Mean of validation set: [-0.00550612 -0.0382933   0.10915098  0.09369314  0.03057844]\n",
      "Std of training set: [ 1.01310886  0.96981949  1.0492285   1.05684479  0.97471336]\n"
     ]
    }
   ],
   "source": [
    "# Standardise features\n",
    "full_scaler = preprocessing.StandardScaler().fit(full_X_tr)\n",
    "\n",
    "full_scaled_tr = full_scaler.transform(full_X_tr)\n",
    "full_scaled_val = full_scaler.transform(full_X_val)\n",
    "\n",
    "print('Mean of training set: {}'.format(full_scaled_tr.mean(axis = 0)[0:5]))\n",
    "print('Std of training set: {}'.format(full_scaled_tr.std(axis = 0)[0:5]))\n",
    "print('Mean of validation set: {}'.format(full_scaled_val.mean(axis = 0)[0:5]))\n",
    "print('Std of training set: {}'.format(full_scaled_val.std(axis = 0)[0:5]))"
   ]
  },
  {
   "cell_type": "code",
   "execution_count": 35,
   "metadata": {},
   "outputs": [
    {
     "name": "stdout",
     "output_type": "stream",
     "text": [
      "Classification accuracy on training set: 1.000\n",
      "Classification accuracy on validation set: 0.712\n"
     ]
    }
   ],
   "source": [
    "# Train the Random Forest Classifier\n",
    "rf_full = RandomForestClassifier(n_estimators = 500, random_state = 31, criterion='entropy')\n",
    "rf_full.fit(full_scaled_tr, full_y_tr)\n",
    "prediction_full_tr = rf_full.predict(X = full_scaled_tr)\n",
    "prediction_full_val = rf_full.predict(X = full_scaled_val)\n",
    "print('Classification accuracy on training set: {:.3f}'.format(accuracy_score(full_y_tr, prediction_full_tr)))\n",
    "print('Classification accuracy on validation set: {:.3f}'.format(accuracy_score(full_y_val, prediction_full_val)))"
   ]
  },
  {
   "cell_type": "code",
   "execution_count": 36,
   "metadata": {},
   "outputs": [
    {
     "name": "stdout",
     "output_type": "stream",
     "text": [
      "1. feature 507 (0.009379)\n",
      "2. feature 502 (0.008731)\n",
      "3. feature 20 (0.008030)\n",
      "4. feature 50 (0.005925)\n",
      "5. feature 359 (0.005463)\n",
      "6. feature 3 (0.005325)\n",
      "7. feature 75 (0.005271)\n",
      "8. feature 397 (0.005254)\n",
      "9. feature 282 (0.004983)\n",
      "10. feature 478 (0.004942)\n",
      "11. feature 262 (0.004734)\n",
      "12. feature 342 (0.004609)\n",
      "13. feature 422 (0.004433)\n",
      "14. feature 484 (0.004245)\n",
      "15. feature 253 (0.004189)\n",
      "16. feature 460 (0.004158)\n",
      "17. feature 221 (0.004134)\n",
      "18. feature 355 (0.003914)\n",
      "19. feature 73 (0.003860)\n",
      "20. feature 287 (0.003850)\n",
      "21. feature 213 (0.003792)\n",
      "22. feature 347 (0.003781)\n",
      "23. feature 329 (0.003713)\n",
      "24. feature 216 (0.003683)\n",
      "25. feature 482 (0.003633)\n",
      "26. feature 89 (0.003626)\n",
      "27. feature 273 (0.003597)\n",
      "28. feature 346 (0.003533)\n",
      "29. feature 16 (0.003448)\n",
      "30. feature 426 (0.003377)\n",
      "31. feature 34 (0.003306)\n",
      "32. feature 325 (0.003298)\n",
      "33. feature 72 (0.003267)\n",
      "34. feature 311 (0.003193)\n",
      "35. feature 47 (0.003160)\n",
      "36. feature 24 (0.003155)\n",
      "37. feature 314 (0.003146)\n",
      "38. feature 321 (0.003128)\n",
      "39. feature 328 (0.003101)\n",
      "40. feature 499 (0.003085)\n",
      "41. feature 133 (0.003034)\n",
      "42. feature 205 (0.003017)\n",
      "43. feature 500 (0.002998)\n",
      "44. feature 95 (0.002968)\n",
      "45. feature 352 (0.002965)\n",
      "46. feature 441 (0.002952)\n",
      "47. feature 76 (0.002943)\n",
      "48. feature 439 (0.002927)\n",
      "49. feature 170 (0.002910)\n",
      "50. feature 153 (0.002877)\n"
     ]
    }
   ],
   "source": [
    "get_importances(rf_full)"
   ]
  },
  {
   "cell_type": "markdown",
   "metadata": {},
   "source": [
    "*Answer: * Looking at the list of the best 50 features, we can see that the first two best features are features 502 and 507. These are class indicator variables 'is_bicycle' and 'is_car', instead of being dim features. As the list goes on, we notice that the rest is almost identical to the important features of the previous forest classifier.\n",
    "\n",
    "The accuracy of this classifier is slightly improved on the validation set, but we can still see that the forest overfits on the training data.\n",
    "\n",
    "Looking at the actual images, a lot of them contain cars, therefore as the classifier overfits on the training set, it predicts cars to be in the test set, correctly or not.\n",
    "\n",
    "It wouldn't be easy to make use of the results, because on a new test set we wouldn't have information on the class attributes, therefore we wouldn't be able to classify the data."
   ]
  },
  {
   "cell_type": "markdown",
   "metadata": {},
   "source": [
    "## Mini challenge [30%]"
   ]
  },
  {
   "cell_type": "markdown",
   "metadata": {},
   "source": [
    "*Important: You are allowed to write up to a maximum of 600 words in this part of the assignment. The thoroughness of the exploration and the quality of the resulting discussion is just as important as the final classification performance of your chosen method(s) and credit will be divided accordingly.*"
   ]
  },
  {
   "cell_type": "markdown",
   "metadata": {},
   "source": [
    "In this final part of the assignment we will have a mini object-recognition challenge. Using the data provided you are asked to find the best classiffier for the person/no person classification task. You can apply any preprocessing steps to the data that you think fit and employ any classifier you like (with the provison that you can explain what the classifier is/preprocessing steps are doing). You can also employ any lessons learnt during the course, either from previous Assignments, the Labs or the lecture material to try and squeeze out as much performance as you possibly can. The only restriction is that all steps must be performed in `Python` by using the `numpy`, `pandas` and `sklearn` packages. You can also make use of `matplotlib` and `seaborn` for visualisation. "
   ]
  },
  {
   "cell_type": "markdown",
   "metadata": {},
   "source": [
    "**Important:** The classification performance metric that we will use for this part is the *cross-entropy* or *logarithmic loss* (see the labs). You should familiarise yourself with the metric by reading the `sklearn` [user guide](http://scikit-learn.org/stable/modules/model_evaluation.html#log-loss) and [documentation](http://scikit-learn.org/stable/modules/generated/sklearn.metrics.log_loss.html#sklearn.metrics.log_loss). To estimate this metric you will need to evaluate probability outputs, as opposed to discrete predictions which we have used so far to compute classification accuracies. Most models in `sklearn` implement a `predict_proba()` method which returns the probabilities for each class. For instance, if your test set consists of `N` datapoints and there are `K` classes, the method will return a `N` x `K` matrix."
   ]
  },
  {
   "cell_type": "markdown",
   "metadata": {},
   "source": [
    "We provide you with three new data sets: a training set (`train_images_partB.csv`), a validation set (`valid_images_partB.csv`), and a test set (`test_images_partB.csv`). You must use the former two for training and evaluating your models (as you see fit). Once you have chosen your favourite model (and pre-processing steps) you should apply it to the test set (for which no labels are provided). Estimate the posterior proabilities for the data points in the test set and submit your results as part of your answer. Your results will be evaluated in terms of the logarithmic loss metric. You also need to submit a brief description of the approaches you considered, your suggested final approach, and a short explanation of why you chose it. The thoroughness of the exploration and the quality of the resulting discussion is just as important as the final score of your chosen method(s) and credit will be divided accordingly.\n",
    "\n",
    "*Hint: Feature engineering, feature combination, model combination and model parameter optimization can significantly improve performance.*"
   ]
  },
  {
   "cell_type": "markdown",
   "metadata": {},
   "source": [
    "**How to submit your results**: Store the estimated probabilities for the data points in the test set in a 2D numpy array. Then execute the provided cell at the end of this notebook which uses a provided `save_predictions` function to export your results into a `.txt` file (the function will return an error if the provided array has not the right shape). The `.txt` file will be saved where your notebook lives. Submit this file along with your notebook as detailed at the top of this file."
   ]
  },
  {
   "cell_type": "markdown",
   "metadata": {},
   "source": [
    "*Answer: *\n",
    "We were provided with three sets, which were loaded into three individual panda DataFrames. Looking at the data, we notice they are very similar with the ones used in the previous question, i.e. having 500 dim features, an ID and 19 class attributes. We are again interested in the ‘is_person’ class attribute. Therefore, the next step was to create two other DataFrames for the training and validation set, only including the 500 dim features. We applied feature standardisation on the data to avoid abnormal behavior of the classifiers to be used later on. The data was transformed to have zero mean and unit variance, which is an important assumption of Support Vector Machines. This scaled data was used throughout the task. \n",
    "\n",
    "The first trial done was with the Logistic Regression classifier using the ‘lbfgs’ solver. As we have a binary classification task and the assumption that  the data is independent and identically distributed, the classifier finds the maximum likelihood of each piece of data. The classifier didn’t perform very well, having a log loss of 0.663 on the validation set.\n",
    "\n",
    "Then, using 3-Fold cross-validation, the Logistic Regression classifier performed better, reaching a log loss of 0.584 on the validation set. The 3-Fold CV was used to optimise the regularisation parameter of the classifier and use that optimal value to check its performance on the validation set.\n",
    "\n",
    "Looking at the previous questions on the train_A data, we can see that SVM classifiers perform better. Therefore, trying out the SVM with the RBF kernel seemed like a good idea. Trying that though, the accuracy on both training and validation sets was surprisingly low. Loss loss was also quite high at 0.693. The RBF kernel checks the squared Euclidean distance between feature vectors and acts as a similarity measure because the smaller the value the smaller the distance between the features, .i.e. they are more similar.\n",
    "\n",
    "As the previous attempt failed, the next choice was to use a 3-Fold CV on the SVM with RBF kernel, altering the penalty parameter in the log range (2, 8). The optimal value of the penalty parameter was found and the performance of the classifier was better. Its log loss is slightly lowered, which is still not ideal.\n",
    "\n",
    "Trying to achieve greater accuracy, the Random Forest Classifier was used on the scaled data. Its log loss was the lowest, being 0.583, and its accuracy was the highest on the validation set, at 0.701. Its high accuracy of 1.0 on the training set was not considered when choosing it to be the “best” classifier for the task, because, as this was explained in previous questions as well, the classifier seemed to overfit on the training data. \n",
    "\n",
    "Therefore, the Random Forest Classifier was used on pre-processed data (feature standardised) to get the lowest log loss and highest accuracy out of all classifiers. It was used on the test set to return the probabilities for each class, which were submitted as a text file as well.\n",
    "\n",
    "Note: Out of curiosity I used the Random Forest Classifier with the training and validation set containing the class attributes as well (again pre-processed). Its accuracy on the training set is again 1.0 as expected and on the validation set 0.725. Of course this classifier cannot be used on the test set as we do not have values for the class attributes.\n"
   ]
  },
  {
   "cell_type": "code",
   "execution_count": 37,
   "metadata": {},
   "outputs": [
    {
     "name": "stdout",
     "output_type": "stream",
     "text": [
      "Train Images: Number of instances: 2113, number of attributes: 520\n",
      "Valid Images: Number of instances: 1113, number of attributes: 520\n",
      "Test Images: Number of instances: 1114, number of attributes: 501\n"
     ]
    }
   ],
   "source": [
    "# Load training, validation and test sets\n",
    "data_path_train_B = os.path.join(os.getcwd(), 'datasets', 'train_images_partB.csv')\n",
    "train_B = pd.read_csv(data_path_train_B, delimiter = ',')\n",
    "\n",
    "data_path_valid_B = os.path.join(os.getcwd(), 'datasets', 'valid_images_partB.csv')\n",
    "valid_B = pd.read_csv(data_path_valid_B, delimiter = ',')\n",
    "\n",
    "data_path_test = os.path.join(os.getcwd(), 'datasets', 'test_images_partB.csv')\n",
    "test_B = pd.read_csv(data_path_test, delimiter = ',')\n",
    "\n",
    "print('Train Images: Number of instances: {}, number of attributes: {}'.format(train_B.shape[0], train_B.shape[1]))\n",
    "print('Valid Images: Number of instances: {}, number of attributes: {}'.format(valid_B.shape[0], valid_B.shape[1]))\n",
    "print('Test Images: Number of instances: {}, number of attributes: {}'.format(test_B.shape[0], test_B.shape[1]))"
   ]
  },
  {
   "cell_type": "code",
   "execution_count": 38,
   "metadata": {},
   "outputs": [
    {
     "name": "stdout",
     "output_type": "stream",
     "text": [
      "X_tr shape: (2113, 500)\n",
      "X_val shape: (1113, 500)\n",
      "y_tr shape: (2113,)\n",
      "y_val shape: (1113,)\n"
     ]
    }
   ],
   "source": [
    "# Get the 500 dim\n",
    "X_tr_B = train_B[X]\n",
    "X_val_B = valid_B[X]\n",
    "y_tr_B = train_B['is_person']\n",
    "y_val_B = valid_B['is_person']\n",
    "print('X_tr shape: {}'.format(X_tr_B.shape))\n",
    "print('X_val shape: {}'.format(X_val_B.shape))\n",
    "print('y_tr shape: {}'.format(y_tr_B.shape))\n",
    "print('y_val shape: {}'.format(y_val_B.shape))"
   ]
  },
  {
   "cell_type": "code",
   "execution_count": 39,
   "metadata": {},
   "outputs": [
    {
     "name": "stdout",
     "output_type": "stream",
     "text": [
      "Mean of training set: [ -1.34508800e-17   8.40680000e-18   2.10170000e-18  -4.20340000e-18\n",
      "  -3.36272000e-18]\n",
      "Std of training set: [ 1.  1.  1.  1.  1.]\n",
      "Mean of validation set: [-0.08108676 -0.08602643 -0.08975741 -0.07628021 -0.08358007]\n",
      "Std of training set: [ 0.00235501  0.00234014  0.00803716  0.00304919  0.0031713 ]\n"
     ]
    }
   ],
   "source": [
    "# Scale data\n",
    "scaler_B = preprocessing.StandardScaler().fit(X_tr_B)\n",
    "\n",
    "scaled_tr_B = scaler_B.transform(X_tr_B)\n",
    "scaled_val_B = scaler_B.transform(X_val_B)\n",
    "\n",
    "print('Mean of training set: {}'.format(scaled_tr_B.mean(axis = 0)[0:5]))\n",
    "print('Std of training set: {}'.format(scaled_tr_B.std(axis = 0)[0:5]))\n",
    "print('Mean of validation set: {}'.format(scaled_val_B.mean(axis = 0)[0:5]))\n",
    "print('Std of training set: {}'.format(scaled_val_B.std(axis = 0)[0:5]))"
   ]
  },
  {
   "cell_type": "code",
   "execution_count": 44,
   "metadata": {},
   "outputs": [
    {
     "name": "stdout",
     "output_type": "stream",
     "text": [
      "Log loss on validation set: 0.663\n",
      "Classification accuracy on training set: 0.622\n",
      "Classification accuracy on validation set: 0.607\n"
     ]
    }
   ],
   "source": [
    "# Logistic Regression trial\n",
    "lr_B = LogisticRegression(solver='lbfgs')\n",
    "lr_B.fit(scaled_tr_B, y_tr_B)\n",
    "# Log loss metric\n",
    "probs_lr_B = lr_B.predict_proba(scaled_val_B)\n",
    "ll_lr_B = log_loss(y_val_B, probs_lr_B)\n",
    "print('Log loss on validation set: {:.3f}'.format(ll_lr_B))\n",
    "\n",
    "print('Classification accuracy on training set: {:.3f}'.format(lr_B.score(scaled_tr_B, y_tr_B)))\n",
    "print('Classification accuracy on validation set: {:.3f}'.format(lr_B.score(scaled_val_B, y_val_B)))\n"
   ]
  },
  {
   "cell_type": "code",
   "execution_count": 45,
   "metadata": {},
   "outputs": [
    {
     "name": "stdout",
     "output_type": "stream",
     "text": [
      "Log loss on validation set: 0.584\n",
      "Optimal Value: [ 233.57214691]\n",
      "Classification accuracy on training set: 0.764\n",
      "Classification accuracy on validation set: 0.689\n"
     ]
    }
   ],
   "source": [
    "C_range = np.logspace(-5, 5, 20)\n",
    "# Use same range and k fold cv. Fit the training set\n",
    "lrcv_B = LogisticRegressionCV(Cs = C_range, cv = k_fold, solver = 'lbfgs')\n",
    "lrcv_B.fit(scaled_tr_B, y_tr_B)\n",
    "\n",
    "# Log loss metric\n",
    "probs_lrcv_B = lrcv_B.predict_proba(scaled_val_B)\n",
    "ll_lrcv_B = log_loss(y_val_B, probs_lrcv_B)\n",
    "print('Log loss on validation set: {:.3f}'.format(ll_lrcv_B))\n",
    "\n",
    "# Optimal value shown by the C_ attribute of LogisticRegressionCV\n",
    "print('Optimal Value: {}'.format(lrcv_B.C_))\n",
    "print('Classification accuracy on training set: {:.3f}'.format(lrcv_B.score(scaled_tr_B, y_tr_B)))\n",
    "# Show accuracy on validation set\n",
    "print('Classification accuracy on validation set: {:.3f}'.format(lrcv_B.score(scaled_val_B, y_val_B)))"
   ]
  },
  {
   "cell_type": "code",
   "execution_count": 51,
   "metadata": {},
   "outputs": [
    {
     "name": "stdout",
     "output_type": "stream",
     "text": [
      "Log loss on validation set: 0.693\n",
      "RBF SVC classification accuracy on training set: 0.555\n",
      "RBF SVC classification accuracy on test set: 0.527\n"
     ]
    }
   ],
   "source": [
    "# SVM with rbf kernel\n",
    "svc_rbf_B = SVC(kernel = 'rbf', probability = True)\n",
    "svc_rbf_B.fit(scaled_tr_B, y_tr_B)\n",
    "\n",
    "# Log loss metric\n",
    "probs_svc_B = svc_rbf_B.predict_proba(scaled_val_B)\n",
    "ll_svc_B = log_loss(y_val_B, probs_svc_B)\n",
    "print('Log loss on validation set: {:.3f}'.format(ll_svc_B))\n",
    "\n",
    "print('RBF SVC classification accuracy on training set: {:.3f}'.format(svc_rbf_B.score(scaled_tr_B, y_tr_B)))\n",
    "print('RBF SVC classification accuracy on test set: {:.3f}'.format(svc_rbf_B.score(scaled_val_B, y_val_B)))"
   ]
  },
  {
   "cell_type": "code",
   "execution_count": 68,
   "metadata": {},
   "outputs": [
    {
     "data": {
      "image/png": "[encoded data removed]",
      "text/plain": [
       "<matplotlib.figure.Figure at 0x7ff35d93c890>"
      ]
     },
     "metadata": {},
     "output_type": "display_data"
    },
    {
     "name": "stdout",
     "output_type": "stream",
     "text": [
      "Optimal value: 100000000.0\n",
      "Log loss on validation set: 0.692\n",
      "Classification accuracy on training set: 0.787\n",
      "Classification accuracy on test set: 0.628\n"
     ]
    }
   ],
   "source": [
    "# K-fold SVM with rbf kernel\n",
    "results_B = np.zeros([3,10])\n",
    "C_range = np.logspace(2, 8, 10)\n",
    "\n",
    "# Do the k-fold and iterate on range for Penalty parameter\n",
    "# but this time check log loss to find optimal value\n",
    "\n",
    "k = 0\n",
    "for train_index, test_index in k_fold.split(scaled_tr_B):\n",
    "    X_train, X_test = scaled_tr_B[train_index], scaled_tr_B[test_index]\n",
    "    x = 0\n",
    "    for s in C_range:\n",
    "        svc_rbf_cv = SVC(C = s, kernel = 'rbf', gamma = 'auto', probability = True)\n",
    "        svc_rbf_cv.fit(X_train, y_tr_B[train_index])\n",
    "        probs_svc = svc_rbf_cv.predict_proba(scaled_val_B)\n",
    "        ll_svc_B = log_loss(y_val_B, probs_svc)\n",
    "        results_B[k][x] = ll_svc_B\n",
    "        x += 1\n",
    "    k += 1\n",
    "    \n",
    "# Plot accuracy\n",
    "means = np.mean(results_B, axis = 0)\n",
    "plt.scatter(C_range, means)\n",
    "plt.plot(C_range, means)\n",
    "plt.xscale('log')\n",
    "plt.ylabel('Performance')\n",
    "plt.xlabel('Penalty Parameter (log scale)')\n",
    "plt.show()\n",
    "\n",
    "# Train the classifier with optimal value depending on which space we chose to vary\n",
    "opt_value = get_optimal_value(results_B, C_range)\n",
    "svc = SVC(C = opt_value, kernel = 'rbf', gamma = 'auto', probability = True)\n",
    "\n",
    "# Fit the training set\n",
    "svc.fit(scaled_tr_B, y_tr_B)\n",
    "\n",
    "print('Optimal value: {}'.format(opt_value))\n",
    "\n",
    "# Log loss metric\n",
    "probs_svc = svc.predict_proba(scaled_val_B)\n",
    "ll_svc = log_loss(y_val_B, probs_svc)\n",
    "print('Log loss on validation set: {:.3f}'.format(ll_svc))\n",
    "\n",
    "print('Classification accuracy on training set: {:.3f}'.format(svc.score(scaled_tr_B, y_tr_B)))\n",
    "print('Classification accuracy on test set: {:.3f}'.format(svc.score(scaled_val_B, y_val_B)))"
   ]
  },
  {
   "cell_type": "code",
   "execution_count": 59,
   "metadata": {},
   "outputs": [
    {
     "name": "stdout",
     "output_type": "stream",
     "text": [
      "Log loss on validation set: 0.583\n",
      "Classification accuracy on training set: 1.000\n",
      "Classification accuracy on validation set: 0.701\n"
     ]
    }
   ],
   "source": [
    "# Random Forest Classifier on scaled data\n",
    "rf_B = RandomForestClassifier(n_estimators = 500, random_state = 42)\n",
    "rf_B.fit(scaled_tr_B, y_tr_B)\n",
    "prediction_tr_B = rf_B.predict(X = scaled_tr_B)\n",
    "prediction_val_B = rf_B.predict(X = scaled_val_B)\n",
    "\n",
    "# Log loss metric\n",
    "probs_rf_B = rf_B.predict_proba(scaled_val_B)\n",
    "ll_rf_B = log_loss(y_val_B, probs_rf_B)\n",
    "print('Log loss on validation set: {:.3f}'.format(ll_rf_B))\n",
    "\n",
    "print('Classification accuracy on training set: {:.3f}'.format(accuracy_score(y_tr_B, prediction_tr_B)))\n",
    "print('Classification accuracy on validation set: {:.3f}'.format(accuracy_score(y_val_B, prediction_val_B)))"
   ]
  },
  {
   "cell_type": "code",
   "execution_count": 53,
   "metadata": {},
   "outputs": [
    {
     "name": "stdout",
     "output_type": "stream",
     "text": [
      "Train Images: Number of instances: 2113, number of attributes: 518\n",
      "Valid Images: Number of instances: 1113, number of attributes: 518\n"
     ]
    }
   ],
   "source": [
    "# Get dims as well as class attributes in the training and validation sets\n",
    "full_X_tr_B = train_B.drop(['imgId', 'is_person'], axis = 1)\n",
    "full_y_tr_B = train_B['is_person']\n",
    "full_X_val_B = valid_B.drop(['imgId', 'is_person'], axis = 1)\n",
    "full_y_val_B = valid_B['is_person']\n",
    "print('Train Images: Number of instances: {}, number of attributes: {}'.format(full_X_tr_B.shape[0], full_X_tr_B.shape[1]))\n",
    "print('Valid Images: Number of instances: {}, number of attributes: {}'.format(full_X_val_B.shape[0], full_X_val_B.shape[1]))"
   ]
  },
  {
   "cell_type": "code",
   "execution_count": 60,
   "metadata": {},
   "outputs": [
    {
     "name": "stdout",
     "output_type": "stream",
     "text": [
      "Log loss on validation set: 0.689\n",
      "Classification accuracy on training set: 1.000\n",
      "Classification accuracy on validation set: 0.725\n"
     ]
    }
   ],
   "source": [
    "# Scale full data\n",
    "full_scaler_B = preprocessing.StandardScaler().fit(full_X_tr_B)\n",
    "\n",
    "full_scaled_tr_B = full_scaler.transform(full_X_tr_B)\n",
    "full_scaled_val_B = full_scaler.transform(full_X_val_B)\n",
    "\n",
    "# Random Forest Classifier on 518-D data\n",
    "rf_full_B = RandomForestClassifier(n_estimators = 500, random_state = 42)\n",
    "rf_full_B.fit(full_X_tr_B, full_y_tr_B)\n",
    "prediction_tr_full_B = rf_full_B.predict(X = full_X_tr_B)\n",
    "prediction_val_full_B = rf_full_B.predict(X = full_X_val_B)\n",
    "\n",
    "# Log loss metric\n",
    "probs_rf_full_B = rf_full_B.predict_proba(full_scaled_val_B)\n",
    "ll_rf_full_B = log_loss(y_val_B, probs_rf_full_B)\n",
    "print('Log loss on validation set: {:.3f}'.format(ll_rf_full_B))\n",
    "\n",
    "print('Classification accuracy on training set: {:.3f}'.format(accuracy_score(full_y_tr_B, prediction_tr_full_B)))\n",
    "print('Classification accuracy on validation set: {:.3f}'.format(accuracy_score(full_y_val_B, prediction_val_full_B)))"
   ]
  },
  {
   "cell_type": "code",
   "execution_count": 66,
   "metadata": {},
   "outputs": [
    {
     "data": {
      "text/plain": [
       "(1114, 2)"
      ]
     },
     "execution_count": 66,
     "metadata": {},
     "output_type": "execute_result"
    }
   ],
   "source": [
    "# Scale test data\n",
    "X_test = test_B.drop('is_person', axis = 1)\n",
    "scaler_test = preprocessing.StandardScaler().fit(X_test)\n",
    "\n",
    "scaled_test = scaler_test.transform(X_test)\n",
    "\n",
    "# Get proba array for our best classifier on the test set (RandomForest)\n",
    "probs_test_B = rf_B.predict_proba(scaled_test)\n",
    "probs_test_B.shape"
   ]
  },
  {
   "cell_type": "code",
   "execution_count": 67,
   "metadata": {
    "collapsed": true
   },
   "outputs": [],
   "source": [
    "# Execute this cell to export your results\n",
    "from numpy import savetxt\n",
    "def save_predictions(pred_proba):\n",
    "    if pred_proba.shape != (1114,2):\n",
    "        raise ValueError('Predicted probabilities array is not the right shape.')\n",
    "    \n",
    "    savetxt('assignment_3_predictions.txt', pred_proba)\n",
    "\n",
    "# You need to replace \"test_images_partB_pred_proba\"\n",
    "# with the name of the array which contains the probability \n",
    "# estimates for the data in the test set.\n",
    "save_predictions(probs_test_B) "
   ]
  },
  {
   "cell_type": "markdown",
   "metadata": {
    "collapsed": true
   },
   "source": [
    "# Appendix"
   ]
  },
  {
   "cell_type": "markdown",
   "metadata": {},
   "source": [
    "## More information about visual words"
   ]
  },
  {
   "cell_type": "markdown",
   "metadata": {},
   "source": [
    "Visual words are based on [Scale-invariant feature transforms (SIFT)](https://en.wikipedia.org/wiki/Scale-invariant_feature_transform). SIFT features are essentially local orientation histograms and capture the properties of small image regions. They possess attractive invariance properties which make them well suited for our task (you can read more about SIFT features in [D.Lowe, IJCV 60(2):91- 110, 2004](http://link.springer.com/article/10.1023/B:VISI.0000029664.99615.94), but the details don't matter for the purpose of this assignment). Each SIFT feature is a 128 dimensional vector. From each image many SIFT features are extracted, typically > 2500 per image (features are extracted at regular intervals using a 15 pixel grid and at 4 different scales). To obtain visual words a representative subset of all extracted SIFT features from all images is chosen and clustered with k-means using 500 centres (such use of the k-means algorithm will be discussed in detail during the lecture). These 500 cluster centres form our visual words. The representation of a single image is obtained by first assigning each SIFT feature extracted from the image to the appropriate cluster (i.e. we determine the visual word corresponding to each feature by picking the closest cluster centre). We then count the number of features from that image assigned to each cluster (i.e. we determine how often each visual word is present in the image). This results in a 500 dimensional count vector for each image (one dimension for each visual word). The normalized version of this count vector gives the final representation of the image (normalized means that we divide the count vector by the total number of visual words in the image, i.e. the normalized counts sum to 1 for each image)"
   ]
  }
 ],
 "metadata": {
  "anaconda-cloud": {},
  "kernelspec": {
   "display_name": "Python 2",
   "language": "python",
   "name": "python2"
  },
  "language_info": {
   "codemirror_mode": {
    "name": "ipython",
    "version": 2
   },
   "file_extension": ".py",
   "mimetype": "text/x-python",
   "name": "python",
   "nbconvert_exporter": "python",
   "pygments_lexer": "ipython2",
   "version": "2.7.13"
  }
 },
 "nbformat": 4,
 "nbformat_minor": 1
}
